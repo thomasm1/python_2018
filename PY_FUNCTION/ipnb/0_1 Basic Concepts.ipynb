{
 "cells": [
  {
   "cell_type": "markdown",
   "metadata": {},
   "source": [
    "## This notebook explains the basic concepts \n",
    "\n",
    "** Statements and Syntax **      \n",
    "\n",
    "** User Input **\n",
    "\n",
    "** print statement **\n",
    " "
   ]
  },
  {
   "cell_type": "code",
   "execution_count": null,
   "metadata": {
    "collapsed": false
   },
   "outputs": [],
   "source": [
    "# This is a python comment\n",
    "''' I have multiple \n",
    "lines to comment ''' "
   ]
  },
  {
   "cell_type": "code",
   "execution_count": null,
   "metadata": {
    "collapsed": false
   },
   "outputs": [],
   "source": [
    "# NEWLINE ( \\n ) is the standard line separator (one statement per line)\n",
    "\n",
    "print \"Hello World \\nGood Morning\""
   ]
  },
  {
   "cell_type": "code",
   "execution_count": null,
   "metadata": {
    "collapsed": false
   },
   "outputs": [],
   "source": [
    "# Backslash ( \\ ) continues a line\n",
    "x=1 \n",
    "y =0\n",
    "if (x == 1) and \\\n",
    "   (y == 0):\n",
    "      print x, y    "
   ]
  },
  {
   "cell_type": "code",
   "execution_count": 3,
   "metadata": {
    "collapsed": false
   },
   "outputs": [
    {
     "data": {
      "text/plain": [
       "['monday', 'Tuesday', 'Wednesday', 'Thursday', 'Friday']"
      ]
     },
     "execution_count": 3,
     "metadata": {},
     "output_type": "execute_result"
    }
   ],
   "source": [
    "# Statements contained within the [], {}, or () brackets do not need to use the line continuation character\n",
    "days = ['Monday', 'Tuesday', 'Wednesday', \n",
    "        'Thursday', 'Friday']\n",
    "days"
   ]
  },
  {
   "cell_type": "code",
   "execution_count": null,
   "metadata": {
    "collapsed": false
   },
   "outputs": [],
   "source": [
    "# Semicolon ( ; ) joins two statements on a line\n",
    "\n",
    "import sys; x = 'foo'; sys.stdout.write(x + '\\n')\n"
   ]
  },
  {
   "cell_type": "code",
   "execution_count": null,
   "metadata": {
    "collapsed": false
   },
   "outputs": [],
   "source": [
    "# Can use single quotes or double quotes to enclose a string\n",
    "\n",
    "'Hello world'\n",
    "\"Hello World\""
   ]
  },
  {
   "cell_type": "markdown",
   "metadata": {
    "collapsed": false
   },
   "source": [
    "User input"
   ]
  },
  {
   "cell_type": "code",
   "execution_count": null,
   "metadata": {
    "collapsed": false
   },
   "outputs": [],
   "source": [
    "# input returns int and float \n",
    "\n",
    "input(\"Please enter a number\")"
   ]
  },
  {
   "cell_type": "code",
   "execution_count": null,
   "metadata": {
    "collapsed": true
   },
   "outputs": [],
   "source": [
    "#raw_input returns string.\n",
    "raw_input (\"Please enter your name\")"
   ]
  },
  {
   "cell_type": "code",
   "execution_count": null,
   "metadata": {
    "collapsed": true
   },
   "outputs": [],
   "source": [
    "# If you use raw input to enter an integer or a float you have to do type conversion.\n",
    "int(raw_input(\"Please enter a number:\"))"
   ]
  },
  {
   "cell_type": "markdown",
   "metadata": {},
   "source": [
    "print statements"
   ]
  },
  {
   "cell_type": "code",
   "execution_count": null,
   "metadata": {
    "collapsed": false
   },
   "outputs": [],
   "source": [
    "# Printing a string Python 2.x\n",
    "\n",
    "print \"Hello World\""
   ]
  },
  {
   "cell_type": "code",
   "execution_count": null,
   "metadata": {
    "collapsed": true
   },
   "outputs": [],
   "source": [
    "# Printing a string python 3.x\n",
    "\n",
    "print(\"Hello World\")"
   ]
  },
  {
   "cell_type": "code",
   "execution_count": null,
   "metadata": {
    "collapsed": false
   },
   "outputs": [],
   "source": [
    "#printing a variable in python 2.x\n",
    "\n",
    "x=2\n",
    "cnm_course = \"cis1250\"\n",
    "\n",
    "print x, cnm_course"
   ]
  },
  {
   "cell_type": "code",
   "execution_count": null,
   "metadata": {
    "collapsed": false
   },
   "outputs": [],
   "source": [
    "#printing a variable in python 3.x. repr dispalys an float or an integer as string.\n",
    "x=2\n",
    "cnm_course = \"cis1250\"\n",
    "\n",
    "#print(x,cnm_course,\"Python\")\n",
    "\n",
    "print(repr(x) + ' ' + cnm_course + ' ' + 'Python')\n"
   ]
  },
  {
   "cell_type": "code",
   "execution_count": null,
   "metadata": {
    "collapsed": false
   },
   "outputs": [],
   "source": []
  }
 ],
 "metadata": {
  "kernelspec": {
   "display_name": "Python 2",
   "language": "python",
   "name": "python2"
  },
  "language_info": {
   "codemirror_mode": {
    "name": "ipython",
    "version": 2
   },
   "file_extension": ".py",
   "mimetype": "text/x-python",
   "name": "python",
   "nbconvert_exporter": "python",
   "pygments_lexer": "ipython2",
   "version": "2.7.13"
  }
 },
 "nbformat": 4,
 "nbformat_minor": 0
}
