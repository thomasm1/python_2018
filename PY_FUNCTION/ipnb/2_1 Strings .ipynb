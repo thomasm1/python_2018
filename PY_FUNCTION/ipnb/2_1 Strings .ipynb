{
 "cells": [
  {
   "cell_type": "markdown",
   "metadata": {},
   "source": [
    "#### Strings are sequential collections of zero or more letters, numbers and other symbols.  \n",
    "#### String values are idetified by using quotation marks (either single or double).\n",
    "#### Since strings are sequences, all of the sequence operations such as indexing, slicing etc will work.\n",
    "#### However, strings are immutable, so you cannot replace characters in a string."
   ]
  },
  {
   "cell_type": "markdown",
   "metadata": {},
   "source": [
    "\n",
    "For a more detailed explanation of string refer to:\n",
    "    \n",
    "https://docs.python.org/2/library/string.html"
   ]
  },
  {
   "cell_type": "code",
   "execution_count": null,
   "metadata": {
    "collapsed": true
   },
   "outputs": [],
   "source": [
    "#Example string 1\n",
    "sample_string = \"  this sample string is a SAMPLE\""
   ]
  },
  {
   "cell_type": "code",
   "execution_count": null,
   "metadata": {
    "collapsed": true
   },
   "outputs": [],
   "source": [
    "#Example string 2\n",
    "my_name = 'Srividya'"
   ]
  },
  {
   "cell_type": "code",
   "execution_count": null,
   "metadata": {
    "collapsed": false
   },
   "outputs": [],
   "source": [
    "#indexing works same as lists\n",
    "my_name[3]"
   ]
  },
  {
   "cell_type": "code",
   "execution_count": null,
   "metadata": {
    "collapsed": false
   },
   "outputs": [],
   "source": [
    "# Slicing works same as lists\n",
    "my_name[3:]"
   ]
  },
  {
   "cell_type": "code",
   "execution_count": null,
   "metadata": {
    "collapsed": false
   },
   "outputs": [],
   "source": [
    "# Cannot change string by indexing and assignment - this will give an error\n",
    "my_name[3] = 'r'"
   ]
  },
  {
   "cell_type": "code",
   "execution_count": null,
   "metadata": {
    "collapsed": false
   },
   "outputs": [],
   "source": [
    "#string concatentation\n",
    "print (my_name + ':' + sample_string)"
   ]
  },
  {
   "cell_type": "code",
   "execution_count": null,
   "metadata": {
    "collapsed": false
   },
   "outputs": [],
   "source": [
    "#built in function\n",
    "len(my_name)"
   ]
  },
  {
   "cell_type": "code",
   "execution_count": null,
   "metadata": {
    "collapsed": true
   },
   "outputs": [],
   "source": [
    "#Python does not have a separate character type.\n",
    "\n",
    "my_string_1 = 's'"
   ]
  },
  {
   "cell_type": "markdown",
   "metadata": {},
   "source": [
    " #### String Methods"
   ]
  },
  {
   "cell_type": "code",
   "execution_count": null,
   "metadata": {
    "collapsed": false
   },
   "outputs": [],
   "source": [
    "# Converts all uppercase to lowercase \n",
    "print \"   lower:\", sample_string.lower()\n",
    "#Converts all lowercase to uppercase\n",
    "print \"   upper:\", sample_string.upper()\n",
    "# Inverts case for all letters\n",
    "print \"swapcase:\", sample_string.swapcase()"
   ]
  },
  {
   "cell_type": "code",
   "execution_count": null,
   "metadata": {
    "collapsed": false
   },
   "outputs": [],
   "source": [
    "# Splits string according to delimiter and returns list of substrings;\n",
    "# space is the default delimiter\n",
    "# split into at most n substrings, where n is optional\n",
    "#If no delimiter is specified, the split method looks for whitespace characters such as tab, newline and space.\n",
    "\n",
    "print \"  space split:\", sample_string.split(' ', 3)\n",
    "\n",
    "#splits at a delimiter which here is letter i\n",
    "print \"  letter delimiter\", sample_string.split('i')"
   ]
  },
  {
   "cell_type": "code",
   "execution_count": null,
   "metadata": {
    "collapsed": false
   },
   "outputs": [],
   "source": [
    "# Join is roughly the reverse of split. syntax: delimiter.join(string)\n",
    "\n",
    "print \"Joining strings:\",' '.join(sample_string)\n",
    "\n",
    "print \"Again:\",'#'.join(sample_string)\n",
    "\n",
    "print \"Backslash:\",'//'.join(sample_string)"
   ]
  },
  {
   "cell_type": "code",
   "execution_count": null,
   "metadata": {
    "collapsed": false
   },
   "outputs": [],
   "source": [
    "'''str.replace(old, new[, max])\n",
    "old -- This is old substring to be replaced.\n",
    "new -- This is new substring, which would replace old substring.\n",
    "max -- If this optional argument max is given, only that number is replaced'''\n",
    " \n",
    "print \"Two replacements: \", sample_string.replace(' ', '$', 2) \n",
    "\n",
    "print \"All replacements: \", sample_string.replace(' ', '$') "
   ]
  },
  {
   "cell_type": "markdown",
   "metadata": {},
   "source": [
    "#### Lesser used string methods"
   ]
  },
  {
   "cell_type": "code",
   "execution_count": null,
   "metadata": {
    "collapsed": false
   },
   "outputs": [],
   "source": [
    "# Returns a string center for the width provided \n",
    "print \"My Name:\", my_name.center(16) \n",
    "\n",
    "print \"sample string:\", sample_string.center(50,'/')"
   ]
  },
  {
   "cell_type": "code",
   "execution_count": null,
   "metadata": {
    "collapsed": false
   },
   "outputs": [],
   "source": [
    "my_name.rjust(10) #Returns a string right-justified in a field of size w"
   ]
  },
  {
   "cell_type": "code",
   "execution_count": null,
   "metadata": {
    "collapsed": false
   },
   "outputs": [],
   "source": [
    "my_name.ljust(10) #Returns a string left-justified in a field of size w"
   ]
  },
  {
   "cell_type": "code",
   "execution_count": null,
   "metadata": {
    "collapsed": false
   },
   "outputs": [],
   "source": [
    "#Find first occurence of a an item. Returns index\n",
    "my_name.find('i')"
   ]
  },
  {
   "cell_type": "code",
   "execution_count": null,
   "metadata": {
    "collapsed": false
   },
   "outputs": [],
   "source": [
    "# can also search for other strings within our string. \n",
    "#Returns 0 if the sub string is found\n",
    "# Returns -1 if sub string not found\n",
    "my_name.find('Sri')"
   ]
  },
  {
   "cell_type": "markdown",
   "metadata": {},
   "source": [
    "#### String Formatting"
   ]
  },
  {
   "cell_type": "code",
   "execution_count": null,
   "metadata": {
    "collapsed": false
   },
   "outputs": [],
   "source": [
    "# Old formatting\n",
    "\n",
    "print '%s %s' % ('one', 'two')\n",
    " \n",
    "#New formatting \n",
    "\n",
    "print '{} {}'.format('one', 'two')\n",
    "\n",
    "#New formatting with positional index\n",
    "\n",
    "print '{1} {0}'.format('one', 'two')"
   ]
  },
  {
   "cell_type": "markdown",
   "metadata": {
    "collapsed": true
   },
   "source": [
    "#### String Comparisons\n",
    "* Comparing strings is one of the most important String operations.\n",
    "* There are two types of comparissons in Python using \"is\" and \"==\""
   ]
  },
  {
   "cell_type": "code",
   "execution_count": null,
   "metadata": {
    "collapsed": true
   },
   "outputs": [],
   "source": [
    "a='this is a very long string'\n",
    "b='this is a very long string'"
   ]
  },
  {
   "cell_type": "code",
   "execution_count": null,
   "metadata": {
    "collapsed": false
   },
   "outputs": [],
   "source": [
    "# The first operation using is may or may not result in True based on where these items, \n",
    "# i.e., strings, are stored in memory.\n",
    "a is b"
   ]
  },
  {
   "cell_type": "code",
   "execution_count": null,
   "metadata": {
    "collapsed": false
   },
   "outputs": [],
   "source": [
    "# For equality check, we should actually be using \"==\"\n",
    "a == b"
   ]
  }
 ],
 "metadata": {
  "anaconda-cloud": {},
  "kernelspec": {
   "display_name": "Python 2",
   "language": "python",
   "name": "python2"
  },
  "language_info": {
   "codemirror_mode": {
    "name": "ipython",
    "version": 2
   },
   "file_extension": ".py",
   "mimetype": "text/x-python",
   "name": "python",
   "nbconvert_exporter": "python",
   "pygments_lexer": "ipython2",
   "version": "2.7.13"
  }
 },
 "nbformat": 4,
 "nbformat_minor": 1
}
