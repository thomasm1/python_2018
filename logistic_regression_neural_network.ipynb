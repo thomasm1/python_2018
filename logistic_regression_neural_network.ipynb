{
  "nbformat": 4,
  "nbformat_minor": 0,
  "metadata": {
    "colab": {
      "provenance": [],
      "gpuType": "T4"
    },
    "kernelspec": {
      "name": "python3",
      "display_name": "Python 3"
    },
    "language_info": {
      "name": "python"
    },
    "accelerator": "GPU"
  },
  "cells": [
    {
      "cell_type": "code",
      "execution_count": null,
      "metadata": {
        "id": "CsPgA-ec3fSW",
        "colab": {
          "base_uri": "https://localhost:8080/"
        },
        "outputId": "6d3f65f9-eda8-4b87-ae06-19e09f2a0f24"
      },
      "outputs": [
        {
          "output_type": "execute_result",
          "data": {
            "text/plain": [
              "60000"
            ]
          },
          "metadata": {},
          "execution_count": 1
        }
      ],
      "source": [
        "# Logistical Regression Deep Neural Networks Using T4 GPU\n",
        "import torch\n",
        "import numpy as np\n",
        "import matplotlib.pyplot as plt\n",
        "import torch.nn as nn\n",
        "import torchvision\n",
        "from torchvision.datasets import MNIST\n",
        "from torchvision import transforms\n",
        "from torchvision.transforms import ToTensor\n",
        "from torch.utils.data.dataloader import DataLoader\n",
        "from torch.utils.data.sampler import SubsetRandomSampler\n",
        "\n",
        "dataset = MNIST(root='data/', download=True, transform=transforms.ToTensor())\n",
        "len(dataset)"
      ]
    },
    {
      "cell_type": "code",
      "source": [
        "%matplotlib inline\n",
        "\n",
        "img, label = dataset[0]\n",
        "img.shape, label\n",
        "plt.imshow(img[0], cmap='gray')\n",
        "# plt.imshow(img.squeeze(), cmap='gray')\n",
        "print('Label:', label)"
      ],
      "metadata": {
        "colab": {
          "base_uri": "https://localhost:8080/",
          "height": 447
        },
        "id": "OIGZjo1A5kqv",
        "outputId": "12815f70-6d9f-4374-845d-4a139ee2f59e"
      },
      "execution_count": null,
      "outputs": [
        {
          "output_type": "stream",
          "name": "stdout",
          "text": [
            "Label: 5\n"
          ]
        },
        {
          "output_type": "display_data",
          "data": {
            "text/plain": [
              "<Figure size 640x480 with 1 Axes>"
            ],
            "image/png": "[encoded data removed]"
          },
          "metadata": {}
        }
      ]
    },
    {
      "cell_type": "code",
      "source": [
        "img_tensor, label = dataset[0]\n",
        "print(img_tensor.shape, 'Label:',label)\n",
        "print(img_tensor[:,10:15,10:15])\n",
        "print(torch.max(img_tensor))\n",
        "print(torch.min(img_tensor))"
      ],
      "metadata": {
        "colab": {
          "base_uri": "https://localhost:8080/"
        },
        "id": "BKKS7Kbn9y2Q",
        "outputId": "af1af714-228c-490b-8317-53e7f469458a"
      },
      "execution_count": null,
      "outputs": [
        {
          "output_type": "stream",
          "name": "stdout",
          "text": [
            "torch.Size([1, 28, 28]) Label: 5\n",
            "tensor([[[0.0039, 0.6039, 0.9922, 0.3529, 0.0000],\n",
            "         [0.0000, 0.5451, 0.9922, 0.7451, 0.0078],\n",
            "         [0.0000, 0.0431, 0.7451, 0.9922, 0.2745],\n",
            "         [0.0000, 0.0000, 0.1373, 0.9451, 0.8824],\n",
            "         [0.0000, 0.0000, 0.0000, 0.3176, 0.9412]]])\n",
            "tensor(1.)\n",
            "tensor(0.)\n"
          ]
        }
      ]
    },
    {
      "cell_type": "code",
      "source": [
        "def split_indices(n, val_pct):\n",
        "    n_val = int(n*val_pct) # size of validation set, n=60000 & val_pct=0.1\n",
        "    idxs = np.random.permutation(n) # create random permutation of 0 to n-1\n",
        "    return idxs[n_val:], idxs[:n_val] # pick first n_val indices for validation set"
      ],
      "metadata": {
        "id": "ma7Wxz3m49j4"
      },
      "execution_count": null,
      "outputs": []
    },
    {
      "cell_type": "code",
      "source": [
        "train_indices, val_indices = split_indices(len(dataset), val_pct=0.2)\n",
        "print(len(train_indices), len(val_indices))\n",
        "print('Sample train indices', train_indices[:10])\n",
        "print('Sample val indices', val_indices[:10])"
      ],
      "metadata": {
        "colab": {
          "base_uri": "https://localhost:8080/"
        },
        "id": "htET-KMj5M7N",
        "outputId": "40049314-0d5a-4596-9405-51a927868eeb"
      },
      "execution_count": null,
      "outputs": [
        {
          "output_type": "stream",
          "name": "stdout",
          "text": [
            "48000 12000\n",
            "Sample train indices [32326 28873 10282 33110 20916 29388 44149 43465 38613 38562]\n",
            "Sample val indices [ 2739 32796  6568 13678 23159 36690  5991 21855 42059 14106]\n"
          ]
        }
      ]
    },
    {
      "cell_type": "code",
      "source": [
        "batch_size = 100\n",
        "#training\n",
        "train_sampler = SubsetRandomSampler(train_indices)\n",
        "train_dl = DataLoader(dataset, batch_size, sampler=train_sampler)\n",
        "#validation\n",
        "valid_sampler = SubsetRandomSampler(val_indices)\n",
        "valid_dl = DataLoader(dataset, batch_size, sampler=valid_sampler)"
      ],
      "metadata": {
        "id": "qk1lcK2C8dWB"
      },
      "execution_count": null,
      "outputs": []
    },
    {
      "cell_type": "code",
      "source": [
        "\n",
        "input_size = 28 * 28\n",
        "num_classes = 10\n",
        "\n",
        "# Logistic regression model\n",
        "model = nn.Linear(input_size, num_classes)\n",
        "print(model.weight.shape)\n",
        "model.weight\n",
        "\n",
        "# To improve upon classical logistic, neural network adds one hidden layer.\n",
        "## 1. Instead of using a single nn.Linear object to transform a batch of inputs (pixel intensities) into a batch of outputs (class probabilities),\n",
        "## this uses 2 nn.Linear objects. Each of these is a network layer.\n",
        "## 2. The first layer (hidden layer) transforms input matrix of shap batch_size x 784 into an inermediate output matrix of shape\n",
        "## batch size x hidden_size, where hidden_size is a preconfigured parameter, e.g. 32 or 64.\n",
        "## 3. Intermediate outputs are then passed into a non-linear Activation Function, which operates on individual elems of the output matrix.\n",
        "## 4. Result of Activation Function, also of size batch_size x hidden_size, is passed into the second layer (outputs layer),\n",
        "## which transforms it into a matrix of size batch_size x 10, identical to the output of the classical logistic regression model.\n"
      ],
      "metadata": {
        "colab": {
          "base_uri": "https://localhost:8080/"
        },
        "id": "X_EhiEVc-R8h",
        "outputId": "b782e89d-9f78-4afc-a18d-ddaf12368bca"
      },
      "execution_count": null,
      "outputs": [
        {
          "output_type": "stream",
          "name": "stdout",
          "text": [
            "torch.Size([10, 784])\n"
          ]
        },
        {
          "output_type": "execute_result",
          "data": {
            "text/plain": [
              "Parameter containing:\n",
              "tensor([[ 0.0193,  0.0097, -0.0245,  ...,  0.0095,  0.0101,  0.0092],\n",
              "        [-0.0251, -0.0302,  0.0336,  ...,  0.0261, -0.0059,  0.0237],\n",
              "        [ 0.0266, -0.0288, -0.0302,  ...,  0.0089,  0.0096, -0.0200],\n",
              "        ...,\n",
              "        [ 0.0336, -0.0313, -0.0137,  ..., -0.0273, -0.0068,  0.0296],\n",
              "        [ 0.0192,  0.0014, -0.0352,  ..., -0.0116,  0.0247, -0.0094],\n",
              "        [-0.0282,  0.0316, -0.0208,  ...,  0.0163,  0.0312,  0.0304]],\n",
              "       requires_grad=True)"
            ]
          },
          "metadata": {},
          "execution_count": 7
        }
      ]
    },
    {
      "cell_type": "code",
      "source": [
        "for xb, yb in train_dl:\n",
        "    print(xb.shape)\n",
        "    break"
      ],
      "metadata": {
        "colab": {
          "base_uri": "https://localhost:8080/"
        },
        "id": "KnWJ9U6WCra-",
        "outputId": "529f1e1e-40f4-48ca-fa8f-fbb1078f2133"
      },
      "execution_count": null,
      "outputs": [
        {
          "output_type": "stream",
          "name": "stdout",
          "text": [
            "torch.Size([100, 1, 28, 28])\n"
          ]
        }
      ]
    },
    {
      "cell_type": "code",
      "source": [
        "for xb, yb in train_dl:\n",
        "    # xb = xb.view(100, 784) # torch.Size([100,784])\n",
        "    # xb = xb.view(xb.size(0),784) # torch.Size([100,784])\n",
        "    xb = xb.view(xb.size(0),-1) # torch.Size([100,784])\n",
        "    print(xb.shape)\n",
        "    break"
      ],
      "metadata": {
        "colab": {
          "base_uri": "https://localhost:8080/"
        },
        "id": "qjJwKYR2C2yl",
        "outputId": "a2a7736b-7eb2-4a20-a71a-d3148b9bef21"
      },
      "execution_count": null,
      "outputs": [
        {
          "output_type": "stream",
          "name": "stdout",
          "text": [
            "torch.Size([100, 784])\n"
          ]
        }
      ]
    },
    {
      "cell_type": "code",
      "source": [
        "## 5. The Activation Function used here is \"Rectified Linear Unit\" or \"ReLU\", with simple formula:\n",
        "## relu(x) = max(0,x) i.e. if an element is negative, we replace it by 0, otherwise we leave it unchanged\n",
        "## This is done by extending the nn.Module class as done with classical logistic"
      ],
      "metadata": {
        "id": "anwpCIwjAPqA"
      },
      "execution_count": null,
      "outputs": []
    },
    {
      "cell_type": "code",
      "source": [
        "import torch.nn.functional as F\n",
        "import torch.nn as nn\n",
        "\n",
        "class MnistModel(nn.Module):\n",
        " # \"\"\" Feedforward neural network with 1 hidden layer \"\"\"\n",
        "    def __init__(self, in_size, hidden_size, out_size):\n",
        "        super().__init__()\n",
        "        # Hidden Layer\n",
        "        self.linear1 = nn.Linear(in_size, hidden_size)\n",
        "        # output layer\n",
        "        self.linear2 = nn.Linear(hidden_size, out_size)\n",
        "\n",
        "    def forward(self, xb):\n",
        "        # Flatten the image tensors\n",
        "        xb = xb.view(xb.size(0), -1)\n",
        "        # Get intermediate outputs using hidden layer\n",
        "        out = self.linear1(xb)\n",
        "        # Apply Activation Function\n",
        "        out = F.relu(out)\n",
        "        # Get predictions using output layer\n",
        "        out = self.linear2(out)\n",
        "        return out"
      ],
      "metadata": {
        "id": "vzIW8ezmXZt7"
      },
      "execution_count": null,
      "outputs": []
    },
    {
      "cell_type": "code",
      "source": [
        "# Activation Function be like:\n",
        "t = torch.tensor([0,.2,-0.3])\n",
        "F.relu(t)"
      ],
      "metadata": {
        "colab": {
          "base_uri": "https://localhost:8080/"
        },
        "id": "9sDWm8A9E549",
        "outputId": "ae5bf354-bcbe-4a93-d5b5-02f2477ffbd6"
      },
      "execution_count": null,
      "outputs": [
        {
          "output_type": "execute_result",
          "data": {
            "text/plain": [
              "tensor([0.0000, 0.2000, 0.0000])"
            ]
          },
          "metadata": {},
          "execution_count": 12
        }
      ]
    },
    {
      "cell_type": "code",
      "source": [
        "\n",
        "\n"
      ],
      "metadata": {
        "id": "iSAzX_9uAs-B"
      },
      "execution_count": null,
      "outputs": []
    },
    {
      "cell_type": "markdown",
      "source": [],
      "metadata": {
        "id": "Q2b9AKOc-m6x"
      }
    },
    {
      "cell_type": "code",
      "source": [
        "# Model with Hidden Layer of 32 activations\n",
        "input_size = 28 * 28 # 784\n",
        "num_classes = 10\n",
        "model = MnistModel(input_size, hidden_size=32, out_size=num_classes)\n",
        "print(model.linear1.weight.shape, model.linear1.bias.shape)\n"
      ],
      "metadata": {
        "colab": {
          "base_uri": "https://localhost:8080/"
        },
        "id": "qbnRdTiJF7gc",
        "outputId": "45a47f5c-434e-4946-8ca3-e3786b394f92"
      },
      "execution_count": null,
      "outputs": [
        {
          "output_type": "stream",
          "name": "stdout",
          "text": [
            "torch.Size([32, 784]) torch.Size([32])\n"
          ]
        }
      ]
    },
    {
      "cell_type": "code",
      "source": [
        "for t in model.parameters():\n",
        "  print(t.shape)"
      ],
      "metadata": {
        "colab": {
          "base_uri": "https://localhost:8080/"
        },
        "id": "h61U9WVdGUdK",
        "outputId": "64ff789f-8600-479f-8882-7a0c2a8df1ae"
      },
      "execution_count": null,
      "outputs": [
        {
          "output_type": "stream",
          "name": "stdout",
          "text": [
            "torch.Size([32, 784])\n",
            "torch.Size([32])\n",
            "torch.Size([10, 32])\n",
            "torch.Size([10])\n"
          ]
        }
      ]
    },
    {
      "cell_type": "code",
      "source": [
        "for images, labels in train_dl:\n",
        "    print(images.shape)\n",
        "    outputs = model(images)\n",
        "    loss = F.cross_entropy(outputs, labels)\n",
        "    print('Loss: ', loss.item())\n",
        "    break\n",
        "\n",
        "print('outputs.shape: ', outputs.shape)\n",
        "print('Sample outputs: \\n', F.softmax(outputs[:2].data))\n",
        "print('Sample outputs [SUM]: \\n', torch.sum(F.softmax(outputs)))"
      ],
      "metadata": {
        "colab": {
          "base_uri": "https://localhost:8080/"
        },
        "id": "0l2u-CBL8BSP",
        "outputId": "9781188e-49cf-4e1f-ffda-b43df2e11e6c"
      },
      "execution_count": null,
      "outputs": [
        {
          "output_type": "stream",
          "name": "stdout",
          "text": [
            "torch.Size([100, 1, 28, 28])\n",
            "Loss:  2.2920312881469727\n",
            "outputs.shape:  torch.Size([100, 10])\n",
            "Sample outputs: \n",
            " tensor([[0.1141, 0.1021, 0.0904, 0.1002, 0.1045, 0.0941, 0.0976, 0.0940, 0.1088,\n",
            "         0.0941],\n",
            "        [0.1146, 0.1126, 0.0853, 0.0925, 0.1096, 0.0936, 0.0889, 0.1000, 0.1079,\n",
            "         0.0949]])\n",
            "Sample outputs [SUM]: \n",
            " tensor(100.0000, grad_fn=<SumBackward0>)\n"
          ]
        },
        {
          "output_type": "stream",
          "name": "stderr",
          "text": [
            "<ipython-input-15-53d953a6bbb8>:9: UserWarning: Implicit dimension choice for softmax has been deprecated. Change the call to include dim=X as an argument.\n",
            "  print('Sample outputs: \\n', F.softmax(outputs[:2].data))\n",
            "<ipython-input-15-53d953a6bbb8>:10: UserWarning: Implicit dimension choice for softmax has been deprecated. Change the call to include dim=X as an argument.\n",
            "  print('Sample outputs [SUM]: \\n', torch.sum(F.softmax(outputs)))\n"
          ]
        }
      ]
    },
    {
      "cell_type": "code",
      "source": [
        "# GPU - optimizing  performance on expensive matrix operations on floating point numbers\n",
        "torch.cuda.is_available()"
      ],
      "metadata": {
        "colab": {
          "base_uri": "https://localhost:8080/"
        },
        "id": "cCMm9jDU-lv_",
        "outputId": "3deb4bd4-661f-49ed-de7a-26d3dac77629"
      },
      "execution_count": null,
      "outputs": [
        {
          "output_type": "execute_result",
          "data": {
            "text/plain": [
              "True"
            ]
          },
          "metadata": {},
          "execution_count": 16
        }
      ]
    },
    {
      "cell_type": "code",
      "source": [
        "def get_default_device():\n",
        "    \"\"\"Pick GPU if available, else CPU\"\"\"\n",
        "    if torch.cuda.is_available():\n",
        "        return torch.device('cuda')\n",
        "    else:\n",
        "        return torch.device('cpu')\n",
        "\n",
        "device = get_default_device()\n",
        "device\n",
        "# device(type='cuda')"
      ],
      "metadata": {
        "colab": {
          "base_uri": "https://localhost:8080/"
        },
        "id": "yhkBm_QlCfpe",
        "outputId": "347bbb3b-040a-483f-f820-1e35de2914a2"
      },
      "execution_count": null,
      "outputs": [
        {
          "output_type": "execute_result",
          "data": {
            "text/plain": [
              "device(type='cuda')"
            ]
          },
          "metadata": {},
          "execution_count": 17
        }
      ]
    },
    {
      "cell_type": "code",
      "source": [
        "def to_device(data, device):\n",
        "    \"\"\"Move tensor(s) to chosen device\"\"\"\n",
        "    if isinstance(data, (list,tuple)):\n",
        "        return [to_device(x, device) for x in data]\n",
        "    return data.to(device, non_blocking=True)\n",
        "\n",
        "for images, labels in train_dl:\n",
        "    print(images.shape)\n",
        "    images = to_device(images, device)\n",
        "    print(images.device)\n",
        "    break"
      ],
      "metadata": {
        "colab": {
          "base_uri": "https://localhost:8080/"
        },
        "id": "BvWDhPtRC4HN",
        "outputId": "9dd2f98d-9aad-4ee9-e0a1-871ea42fa9b8"
      },
      "execution_count": null,
      "outputs": [
        {
          "output_type": "stream",
          "name": "stdout",
          "text": [
            "torch.Size([100, 1, 28, 28])\n",
            "cuda:0\n"
          ]
        }
      ]
    },
    {
      "cell_type": "code",
      "source": [
        "to_device(torch.tensor([1,2,3,4]), device)"
      ],
      "metadata": {
        "colab": {
          "base_uri": "https://localhost:8080/"
        },
        "id": "3iHkr_RUD1r-",
        "outputId": "beeab418-2ea5-4850-8738-c79451009c09"
      },
      "execution_count": null,
      "outputs": [
        {
          "output_type": "execute_result",
          "data": {
            "text/plain": [
              "tensor([1, 2, 3, 4], device='cuda:0')"
            ]
          },
          "metadata": {},
          "execution_count": 19
        }
      ]
    },
    {
      "cell_type": "code",
      "source": [
        "# DeviceDataLoader class wrap existing data loaders and move data to selected device, as batches are accessed.\n",
        "# No need to extend existing class to create PyTorch dataloader.\n",
        "# All needed is an __iter__ method to retrieve batches of data and a __len__ method to get the number of batches.\n",
        "class DeviceDataLoader():\n",
        "    \"\"\"Wrap a dataloader to move data to a device\"\"\"\n",
        "    def __init__(self, dl, device):\n",
        "        self.dl = dl\n",
        "        self.device = device\n",
        "\n",
        "    def __iter__(self):\n",
        "        \"\"\"Yield a batch of data after moving it to device\"\"\"\n",
        "        for b in self.dl:\n",
        "            yield to_device(b, self.device)\n",
        "\n",
        "    def __len__(self):\n",
        "        \"\"\"Number of batches\"\"\"\n",
        "        return len(self.dl)"
      ],
      "metadata": {
        "id": "6tkWUChoErhl"
      },
      "execution_count": null,
      "outputs": []
    },
    {
      "cell_type": "code",
      "source": [
        "\n",
        "train_dl = DeviceDataLoader(train_dl, device)\n",
        "valid_dl = DeviceDataLoader(valid_dl, device)\n",
        "#\n",
        "for xb, yb in valid_dl:\n",
        "    print('xb.device:', xb.device)\n",
        "    print('yb :', yb)\n",
        "    break"
      ],
      "metadata": {
        "colab": {
          "base_uri": "https://localhost:8080/"
        },
        "id": "Lex8unuVgmmC",
        "outputId": "8b0e0601-6022-4822-b5e4-2dda0c4d7d19"
      },
      "execution_count": null,
      "outputs": [
        {
          "output_type": "stream",
          "name": "stdout",
          "text": [
            "xb.device: cuda:0\n",
            "yb : tensor([6, 4, 8, 6, 8, 7, 0, 2, 6, 6, 0, 4, 8, 6, 1, 2, 6, 7, 2, 4, 2, 1, 5, 7,\n",
            "        8, 9, 1, 3, 6, 2, 6, 2, 6, 1, 1, 0, 1, 9, 5, 0, 4, 6, 1, 1, 3, 4, 8, 4,\n",
            "        6, 2, 1, 9, 8, 4, 0, 3, 4, 2, 2, 5, 8, 0, 2, 7, 1, 7, 3, 6, 3, 8, 9, 2,\n",
            "        4, 9, 7, 6, 8, 1, 8, 5, 4, 5, 3, 3, 7, 6, 0, 1, 4, 5, 2, 3, 5, 7, 0, 2,\n",
            "        3, 1, 3, 6], device='cuda:0')\n"
          ]
        }
      ]
    },
    {
      "cell_type": "code",
      "source": [
        "### 1. calcualtes loss for batch of data,\n",
        "### 2. optionally performs gradient descent update step if optimizer provided,\n",
        "### 3. optionally coputes a metric of accuracy using preds and targets\n",
        "def loss_batch(model, loss_func, xb, yb, opt=None, metric=None):\n",
        "    preds = model(xb)  # generate predictions\n",
        "    loss = loss_func(preds, yb)  # calculate loss\n",
        "    if opt is not None:\n",
        "        loss.backward() # compute gradients\n",
        "        opt.step() # update parameters\n",
        "        opt.zero_grad() # reset gradients\n",
        "    metric_result = None\n",
        "    if metric is not None: #compute metric\n",
        "      metric_result = metric(preds,yb)\n",
        "\n",
        "    return loss.item(), len(xb), metric_result"
      ],
      "metadata": {
        "id": "voG5nFc8Ie8g"
      },
      "execution_count": null,
      "outputs": []
    },
    {
      "cell_type": "code",
      "source": [
        "def evaluate(model, loss_fn, valid_dl, metric=None):\n",
        "    with torch.no_grad(): # pass each batch through model\n",
        "        results = [loss_batch(model, loss_fn, xb, yb, metric=metric)\n",
        "                   for xb, yb in valid_dl]\n",
        "        losses, nums, metrics = zip(*results) # separate losses, counts and metrics\n",
        "        total = np.sum(nums) #total size of dataset\n",
        "        avg_loss = np.sum(np.multiply(losses, nums)) / total # average loss\n",
        "        avg_metric = None\n",
        "        if metric is not None:  # avg. of metric across batches\n",
        "            avg_metric = np.sum(np.multiply(metrics, nums)) / total\n",
        "    return avg_loss, total, avg_metric"
      ],
      "metadata": {
        "id": "D8S1oonBKORt"
      },
      "execution_count": null,
      "outputs": []
    },
    {
      "cell_type": "code",
      "source": [
        "def fit(epochs, lr, loss_fn, train_dl,\n",
        "        valid_dl, metric=None, opt_fn=None):\n",
        "  losses, metrics = [], []\n",
        "  if opt_fn is None: opt_fn = torch.optim.SGD\n",
        "  opt = torch.optim.SGD(model.parameters(), lr=lr)\n",
        "\n",
        "  for epoch in range(epochs):\n",
        "    # Training\n",
        "    for xb, yb in train_dl:\n",
        "      loss, _, _ = loss_batch(model, loss_fn, xb, yb, opt)\n",
        "\n",
        "    # Evaluation\n",
        "    result = evaluate(model, loss_fn, valid_dl, metric)\n",
        "    val_loss, total, val_metric = result\n",
        "\n",
        "    # Record the loss & metric\n",
        "    losses.append(val_loss)\n",
        "    metrics.append(val_metric)\n",
        "\n",
        "    # Print progress\n",
        "    if metric is None:\n",
        "      print('Epoch [{}/{}], loss: {:.4f}'.format(epoch+1, epochs, val_loss))\n",
        "    else:\n",
        "      print('Epoch [{}/{}], loss: {:.4f}, {}: {:.4f}'.format(epoch+1, epochs, val_loss, metric.__name__, val_metric))\n",
        "\n",
        "  return losses, metrics"
      ],
      "metadata": {
        "id": "LAdIQjXgIyD_"
      },
      "execution_count": null,
      "outputs": []
    },
    {
      "cell_type": "markdown",
      "source": [
        "1. _____Generate predictions\n",
        "2. _____Calculate the loss\n",
        "3. _____Compute gradients with respect to Weights and Biases\n",
        "4. _____[learning-rate] Adjust the weights by subtracting a small quantity proportional to the gradient\n",
        "5. ____Reset gradients to zero"
      ],
      "metadata": {
        "id": "G7_wi4FkLGnD"
      }
    },
    {
      "cell_type": "code",
      "source": [
        "def accuracy(outputs, labels):\n",
        "  _, preds = torch.max(outputs, dim=1)\n",
        "  return torch.sum(preds == labels).item() / len(preds)"
      ],
      "metadata": {
        "id": "5g5n-AVELIb4"
      },
      "execution_count": null,
      "outputs": []
    },
    {
      "cell_type": "code",
      "source": [
        "model = MnistModel(input_size, hidden_size=32, out_size=num_classes)\n",
        "to_device(model, device)"
      ],
      "metadata": {
        "colab": {
          "base_uri": "https://localhost:8080/"
        },
        "id": "8ckYDqjpb7os",
        "outputId": "a24482f5-b124-419a-993d-ca71f5960e14"
      },
      "execution_count": null,
      "outputs": [
        {
          "output_type": "execute_result",
          "data": {
            "text/plain": [
              "MnistModel(\n",
              "  (linear1): Linear(in_features=784, out_features=32, bias=True)\n",
              "  (linear2): Linear(in_features=32, out_features=10, bias=True)\n",
              ")"
            ]
          },
          "metadata": {},
          "execution_count": 26
        }
      ]
    },
    {
      "cell_type": "code",
      "source": [
        "val_loss, total, val_acc = evaluate(model, F.cross_entropy, valid_dl, metric=accuracy)\n",
        "print('Loss: {:.4f}, Accuracy: {:.4f}'.format(val_loss,  val_acc))"
      ],
      "metadata": {
        "colab": {
          "base_uri": "https://localhost:8080/"
        },
        "id": "UvQX2mc_cEzI",
        "outputId": "1b3b8c38-283d-4690-8a09-25a08ba8967c"
      },
      "execution_count": null,
      "outputs": [
        {
          "output_type": "stream",
          "name": "stdout",
          "text": [
            "Loss: 2.3117, Accuracy: 0.0911\n"
          ]
        }
      ]
    },
    {
      "cell_type": "code",
      "source": [
        "losses1, metrics1 = fit(5, 0.5, F.cross_entropy, train_dl, valid_dl, accuracy) # w GPU ~.96"
      ],
      "metadata": {
        "colab": {
          "base_uri": "https://localhost:8080/"
        },
        "id": "IFX1Hl0Mc-F3",
        "outputId": "130fb953-6cd7-42a5-9de7-d7e243fe7670"
      },
      "execution_count": null,
      "outputs": [
        {
          "output_type": "stream",
          "name": "stdout",
          "text": [
            "Epoch [1/5], loss: 0.2098, accuracy: 0.9342\n",
            "Epoch [2/5], loss: 0.1538, accuracy: 0.9529\n",
            "Epoch [3/5], loss: 0.1512, accuracy: 0.9534\n",
            "Epoch [4/5], loss: 0.1157, accuracy: 0.9623\n",
            "Epoch [5/5], loss: 0.1140, accuracy: 0.9645\n"
          ]
        }
      ]
    },
    {
      "cell_type": "code",
      "source": [
        "# losses2, metrics2 = fit(5, 0.1, model, F.cross_entropy, train_dl, valid_dl, accuracy)\n",
        "losses2, metrics2 = fit(5, 0.1, F.cross_entropy, train_dl, valid_dl, accuracy)"
      ],
      "metadata": {
        "colab": {
          "base_uri": "https://localhost:8080/"
        },
        "id": "wgwlm43Rd2LC",
        "outputId": "6c315d6c-66c2-476b-c97e-b34fe9a9a95c"
      },
      "execution_count": null,
      "outputs": [
        {
          "output_type": "stream",
          "name": "stdout",
          "text": [
            "Epoch [1/5], loss: 0.1015, accuracy: 0.9673\n",
            "Epoch [2/5], loss: 0.0991, accuracy: 0.9677\n",
            "Epoch [3/5], loss: 0.0985, accuracy: 0.9680\n",
            "Epoch [4/5], loss: 0.0978, accuracy: 0.9682\n",
            "Epoch [5/5], loss: 0.0972, accuracy: 0.9682\n"
          ]
        }
      ]
    },
    {
      "cell_type": "code",
      "source": [
        "accuracies = [val_acc] + metrics1 + metrics2\n",
        "plt.plot(accuracies, '-x')\n",
        "plt.xlabel('epoch')\n",
        "plt.ylabel('accuracy')\n",
        "plt.title('Accuracy vs. No. of epochs');\n",
        "#"
      ],
      "metadata": {
        "colab": {
          "base_uri": "https://localhost:8080/",
          "height": 472
        },
        "id": "TggApNfhrNkw",
        "outputId": "8570583e-d8e4-4268-f38d-fb5cca060414"
      },
      "execution_count": null,
      "outputs": [
        {
          "output_type": "display_data",
          "data": {
            "text/plain": [
              "<Figure size 640x480 with 1 Axes>"
            ],
            "image/png": "[encoded data removed]"
          },
          "metadata": {}
        }
      ]
    }
  ]
}