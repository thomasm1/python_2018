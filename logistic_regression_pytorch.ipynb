{
  "nbformat": 4,
  "nbformat_minor": 0,
  "metadata": {
    "colab": {
      "provenance": []
    },
    "kernelspec": {
      "name": "python3",
      "display_name": "Python 3"
    },
    "language_info": {
      "name": "python"
    }
  },
  "cells": [
    {
      "cell_type": "code",
      "source": [
        "import kagglehub\n",
        "# Logistic regression almost identical to linear regression model with weights and bias matrices, pred = x @ w.t() + b\n",
        "## Since image is (rgb,x,y), (1,28,28), nn.Linear expects a vector of 28x28, size 784...\n",
        "## Output is vect;or of size 10, with each element signifying probbabiliy a particular target label (0 - 9). Predicted label is one with highest probability\n",
        "#https://www.kaggle.com/datasets/hojjatk/mnist-dataset\n",
        "# Download latest version\n",
        "# path = kagglehub.dataset_download(\"hojjatk/mnist-dataset\")\n",
        "# print(\"Path to dataset files:\", path)"
      ],
      "metadata": {
        "id": "JDIw7yJhiCmw"
      },
      "execution_count": 1,
      "outputs": []
    },
    {
      "cell_type": "code",
      "source": [],
      "metadata": {
        "id": "j21aK77xtMQj"
      },
      "execution_count": 1,
      "outputs": []
    },
    {
      "cell_type": "code",
      "source": [
        "import torch\n",
        "import torchvision\n",
        "from torchvision.datasets import MNIST\n",
        "import torchvision.transforms as transforms\n",
        "\n",
        "dataset = MNIST(root='data/', download=True)#, transform=transforms.ToTensor())\n",
        "len(dataset)"
      ],
      "metadata": {
        "colab": {
          "base_uri": "https://localhost:8080/"
        },
        "id": "pp2L8TFiiFmA",
        "outputId": "1ffb9722-0aeb-45fd-f67f-dde56116463f"
      },
      "execution_count": 2,
      "outputs": [
        {
          "output_type": "stream",
          "name": "stdout",
          "text": [
            "Downloading http://yann.lecun.com/exdb/mnist/train-images-idx3-ubyte.gz\n",
            "Failed to download (trying next):\n",
            "<urlopen error [Errno 111] Connection refused>\n",
            "\n",
            "Downloading https://ossci-datasets.s3.amazonaws.com/mnist/train-images-idx3-ubyte.gz\n",
            "Downloading https://ossci-datasets.s3.amazonaws.com/mnist/train-images-idx3-ubyte.gz to data/MNIST/raw/train-images-idx3-ubyte.gz\n"
          ]
        },
        {
          "output_type": "stream",
          "name": "stderr",
          "text": [
            "100%|██████████| 9.91M/9.91M [00:00<00:00, 51.3MB/s]\n"
          ]
        },
        {
          "output_type": "stream",
          "name": "stdout",
          "text": [
            "Extracting data/MNIST/raw/train-images-idx3-ubyte.gz to data/MNIST/raw\n",
            "\n",
            "Downloading http://yann.lecun.com/exdb/mnist/train-labels-idx1-ubyte.gz\n",
            "Failed to download (trying next):\n",
            "<urlopen error [Errno 111] Connection refused>\n",
            "\n",
            "Downloading https://ossci-datasets.s3.amazonaws.com/mnist/train-labels-idx1-ubyte.gz\n",
            "Downloading https://ossci-datasets.s3.amazonaws.com/mnist/train-labels-idx1-ubyte.gz to data/MNIST/raw/train-labels-idx1-ubyte.gz\n"
          ]
        },
        {
          "output_type": "stream",
          "name": "stderr",
          "text": [
            "100%|██████████| 28.9k/28.9k [00:00<00:00, 2.18MB/s]\n"
          ]
        },
        {
          "output_type": "stream",
          "name": "stdout",
          "text": [
            "Extracting data/MNIST/raw/train-labels-idx1-ubyte.gz to data/MNIST/raw\n",
            "\n",
            "Downloading http://yann.lecun.com/exdb/mnist/t10k-images-idx3-ubyte.gz\n",
            "Failed to download (trying next):\n",
            "<urlopen error [Errno 111] Connection refused>\n",
            "\n",
            "Downloading https://ossci-datasets.s3.amazonaws.com/mnist/t10k-images-idx3-ubyte.gz\n",
            "Downloading https://ossci-datasets.s3.amazonaws.com/mnist/t10k-images-idx3-ubyte.gz to data/MNIST/raw/t10k-images-idx3-ubyte.gz\n"
          ]
        },
        {
          "output_type": "stream",
          "name": "stderr",
          "text": [
            "100%|██████████| 1.65M/1.65M [00:00<00:00, 14.9MB/s]\n"
          ]
        },
        {
          "output_type": "stream",
          "name": "stdout",
          "text": [
            "Extracting data/MNIST/raw/t10k-images-idx3-ubyte.gz to data/MNIST/raw\n",
            "\n",
            "Downloading http://yann.lecun.com/exdb/mnist/t10k-labels-idx1-ubyte.gz\n",
            "Failed to download (trying next):\n",
            "<urlopen error [Errno 111] Connection refused>\n",
            "\n",
            "Downloading https://ossci-datasets.s3.amazonaws.com/mnist/t10k-labels-idx1-ubyte.gz\n",
            "Downloading https://ossci-datasets.s3.amazonaws.com/mnist/t10k-labels-idx1-ubyte.gz to data/MNIST/raw/t10k-labels-idx1-ubyte.gz\n"
          ]
        },
        {
          "output_type": "stream",
          "name": "stderr",
          "text": [
            "100%|██████████| 4.54k/4.54k [00:00<00:00, 3.29MB/s]"
          ]
        },
        {
          "output_type": "stream",
          "name": "stdout",
          "text": [
            "Extracting data/MNIST/raw/t10k-labels-idx1-ubyte.gz to data/MNIST/raw\n",
            "\n"
          ]
        },
        {
          "output_type": "stream",
          "name": "stderr",
          "text": [
            "\n"
          ]
        },
        {
          "output_type": "execute_result",
          "data": {
            "text/plain": [
              "60000"
            ]
          },
          "metadata": {},
          "execution_count": 2
        }
      ]
    },
    {
      "cell_type": "code",
      "source": [
        "import matplotlib.pyplot as plt\n",
        "import numpy as np\n",
        "\n",
        "%matplotlib inline\n",
        "\n",
        "image, label = dataset[0]\n",
        "plt.imshow(image, cmap='gray')\n",
        "# plt.imshow(img.squeeze(), cmap='gray')\n",
        "print('Label:', label)\n"
      ],
      "metadata": {
        "colab": {
          "base_uri": "https://localhost:8080/",
          "height": 447
        },
        "id": "EfJfQKa4iVOn",
        "outputId": "92161f65-babc-404b-e7db-a134e5659849"
      },
      "execution_count": 3,
      "outputs": [
        {
          "output_type": "stream",
          "name": "stdout",
          "text": [
            "Label: 5\n"
          ]
        },
        {
          "output_type": "display_data",
          "data": {
            "text/plain": [
              "<Figure size 640x480 with 1 Axes>"
            ],
            "image/png": "[encoded data removed]"
          },
          "metadata": {}
        }
      ]
    },
    {
      "cell_type": "code",
      "source": [
        "image, label = dataset[10]\n",
        "plt.imshow(image, cmap='gray')\n",
        "# plt.imshow(img.squeeze(), cmap='gray')\n",
        "print('Label:', label)"
      ],
      "metadata": {
        "colab": {
          "base_uri": "https://localhost:8080/",
          "height": 447
        },
        "id": "SSe0r8ytibHf",
        "outputId": "a974e9a9-755d-45db-d36d-0aef3a28482f"
      },
      "execution_count": 4,
      "outputs": [
        {
          "output_type": "stream",
          "name": "stdout",
          "text": [
            "Label: 3\n"
          ]
        },
        {
          "output_type": "display_data",
          "data": {
            "text/plain": [
              "<Figure size 640x480 with 1 Axes>"
            ],
            "image/png": "[encoded data removed]"
          },
          "metadata": {}
        }
      ]
    },
    {
      "cell_type": "code",
      "source": [
        "\n",
        "# transform converts images into tensors\n",
        "dataset = MNIST(root='data/', download=True, transform=transforms.ToTensor())\n",
        "img_tensor, label = dataset[0]\n",
        "print(img_tensor.shape, 'Label:',label)"
      ],
      "metadata": {
        "colab": {
          "base_uri": "https://localhost:8080/"
        },
        "id": "yfaziio5ifTe",
        "outputId": "9289a056-5550-453a-adb3-6d227b1ea2e2"
      },
      "execution_count": 5,
      "outputs": [
        {
          "output_type": "stream",
          "name": "stdout",
          "text": [
            "torch.Size([1, 28, 28]) Label: 5\n"
          ]
        }
      ]
    },
    {
      "cell_type": "markdown",
      "source": [
        "1. Training Set:_______compute loss & adjust weights of model using gradient descent\n",
        "2. Validation Set:_____adjust hyperparameters, i.e. learning rate, and pick best version\n",
        "3. Test Set: __________compare models"
      ],
      "metadata": {
        "id": "sUO6ISj3iko9"
      }
    },
    {
      "cell_type": "code",
      "source": [
        "print(img_tensor[:,10:15,10:15])\n",
        "print(torch.max(img_tensor))\n",
        "print(torch.min(img_tensor))"
      ],
      "metadata": {
        "colab": {
          "base_uri": "https://localhost:8080/"
        },
        "id": "T8zwYUTZiiNi",
        "outputId": "7edcd3c8-c043-4980-a34c-48c0a6ea4896"
      },
      "execution_count": 6,
      "outputs": [
        {
          "output_type": "stream",
          "name": "stdout",
          "text": [
            "tensor([[[0.0039, 0.6039, 0.9922, 0.3529, 0.0000],\n",
            "         [0.0000, 0.5451, 0.9922, 0.7451, 0.0078],\n",
            "         [0.0000, 0.0431, 0.7451, 0.9922, 0.2745],\n",
            "         [0.0000, 0.0000, 0.1373, 0.9451, 0.8824],\n",
            "         [0.0000, 0.0000, 0.0000, 0.3176, 0.9412]]])\n",
            "tensor(1.)\n",
            "tensor(0.)\n"
          ]
        }
      ]
    },
    {
      "cell_type": "code",
      "source": [
        "def split_indices(n, val_pct):\n",
        "    n_val = int(n*val_pct) # size of validation set, n=60000 & val_pct=0.1\n",
        "    idxs = np.random.permutation(n) # create random permutation of 0 to n-1\n",
        "    return idxs[n_val:], idxs[:n_val] # pick first n_val indices for validation set"
      ],
      "metadata": {
        "id": "OnTm0XhZi8AE"
      },
      "execution_count": 7,
      "outputs": []
    },
    {
      "cell_type": "markdown",
      "source": [
        "split_indices randomly shuffles the array indices and separates out a specified portion (training images are often ordered by target lables, i.e. images of 0s, followed b images of 1's, followed by 2's"
      ],
      "metadata": {
        "id": "5YI3udyBp6-i"
      }
    },
    {
      "cell_type": "code",
      "source": [
        "train_indices, val_indices = split_indices(len(dataset), val_pct=0.2)\n",
        "print(len(train_indices), len(val_indices))\n",
        "print('Sample train indices', train_indices[:10])\n",
        "print('Sample val indices', val_indices[:10])"
      ],
      "metadata": {
        "colab": {
          "base_uri": "https://localhost:8080/"
        },
        "id": "mJcMPT9xjAfi",
        "outputId": "b8be1355-8566-4dc6-ce9d-bc71dab95693"
      },
      "execution_count": 8,
      "outputs": [
        {
          "output_type": "stream",
          "name": "stdout",
          "text": [
            "48000 12000\n",
            "Sample train indices [ 4669 26095 36769 47716 51730 26913 52265 51767 31462 38186]\n",
            "Sample val indices [43013 48785 36288 57762 25027 51619 41767 50360  9399 37767]\n"
          ]
        }
      ]
    },
    {
      "cell_type": "code",
      "source": [
        "from torch.utils.data.sampler import SubsetRandomSampler\n",
        "from torch.utils.data.dataloader import DataLoader\n",
        "\n",
        "batch_size = 100\n",
        "#training\n",
        "train_sampler = SubsetRandomSampler(train_indices)\n",
        "train_loader = DataLoader(dataset, batch_size, sampler=train_sampler)\n",
        "#validation\n",
        "val_sampler = SubsetRandomSampler(val_indices)\n",
        "val_loader = DataLoader(dataset, batch_size, sampler=val_sampler)"
      ],
      "metadata": {
        "id": "IUwrfp8qqllM"
      },
      "execution_count": 9,
      "outputs": []
    },
    {
      "cell_type": "code",
      "source": [
        "import torch.nn as nn\n",
        "input_size = 28 * 28\n",
        "num_classes = 10\n",
        "\n",
        "# Logistic regression model\n",
        "model = nn.Linear(input_size, num_classes)\n",
        "print(model.weight.shape)\n",
        "model.weight"
      ],
      "metadata": {
        "colab": {
          "base_uri": "https://localhost:8080/"
        },
        "id": "9plvEUpMtVVk",
        "outputId": "4018679a-8e8e-4399-d7a8-13020a2d7cc9"
      },
      "execution_count": 10,
      "outputs": [
        {
          "output_type": "stream",
          "name": "stdout",
          "text": [
            "torch.Size([10, 784])\n"
          ]
        },
        {
          "output_type": "execute_result",
          "data": {
            "text/plain": [
              "Parameter containing:\n",
              "tensor([[-3.2323e-02, -2.0849e-02, -2.5424e-03,  ..., -2.6597e-02,\n",
              "         -3.2966e-02, -1.2410e-02],\n",
              "        [ 3.0515e-02,  4.4917e-03,  7.8155e-03,  ...,  8.3983e-05,\n",
              "          1.0025e-02,  1.7679e-02],\n",
              "        [-1.2185e-02,  2.7819e-02,  1.6537e-02,  ..., -3.5408e-02,\n",
              "          5.1771e-03,  1.3270e-02],\n",
              "        ...,\n",
              "        [ 2.9207e-02, -1.3808e-02, -1.3694e-03,  ..., -1.1295e-02,\n",
              "         -2.5508e-02, -6.7735e-03],\n",
              "        [ 1.9905e-02, -1.6001e-02,  1.7940e-02,  ...,  1.6014e-02,\n",
              "         -9.9847e-03, -1.2029e-02],\n",
              "        [ 4.9074e-04, -1.4707e-03, -3.1043e-02,  ...,  9.2425e-03,\n",
              "          3.2683e-02, -1.4271e-02]], requires_grad=True)"
            ]
          },
          "metadata": {},
          "execution_count": 10
        }
      ]
    },
    {
      "cell_type": "code",
      "source": [
        "print (model.bias.shape)\n",
        "model.bias"
      ],
      "metadata": {
        "colab": {
          "base_uri": "https://localhost:8080/"
        },
        "id": "TLQ_MAHIt_Le",
        "outputId": "f3df6a47-96d1-4d04-daa2-b2c1413003e8"
      },
      "execution_count": 11,
      "outputs": [
        {
          "output_type": "stream",
          "name": "stdout",
          "text": [
            "torch.Size([10])\n"
          ]
        },
        {
          "output_type": "execute_result",
          "data": {
            "text/plain": [
              "Parameter containing:\n",
              "tensor([-0.0047,  0.0183, -0.0155,  0.0076, -0.0292,  0.0305, -0.0063,  0.0088,\n",
              "        -0.0221,  0.0336], requires_grad=True)"
            ]
          },
          "metadata": {},
          "execution_count": 11
        }
      ]
    },
    {
      "cell_type": "code",
      "source": [
        "# for images, labels in train_loader:\n",
        "#     print(labels)\n",
        "#     print(images.shape)\n",
        "#     # images = images.reshape(-1, 28*28)\n",
        "#     # print('reshape images.shape:', images.shape)\n",
        "#     outputs = model(images)\n",
        "#     break\n",
        "    ## Without reshape, outputs error due to torch.Size([100,1,28,28])\n",
        "    ## Must flatten 1,28,28"
      ],
      "metadata": {
        "id": "ZGp7i4uIuY7f"
      },
      "execution_count": 12,
      "outputs": []
    },
    {
      "cell_type": "code",
      "source": [
        "class MnistModel(nn.Module):\n",
        "    def __init__(self):\n",
        "        super().__init__()\n",
        "        self.linear = nn.Linear(input_size, num_classes)\n",
        "\n",
        "    def forward(self, xb):\n",
        "        xb = xb.reshape(-1, 784)\n",
        "        out = self.linear(xb)\n",
        "        return out\n",
        "\n",
        "model = MnistModel()"
      ],
      "metadata": {
        "id": "wxty_76ywFAk"
      },
      "execution_count": 13,
      "outputs": []
    },
    {
      "cell_type": "markdown",
      "source": [],
      "metadata": {
        "id": "X7VJg8VHsR4a"
      }
    },
    {
      "cell_type": "markdown",
      "source": [
        "*Inside __init__ constructor method, is instantiated the weights and biases using nn.Linear,\n",
        "*Inside forward(a,b) method which is invoked when passing a batch of ## inputs to model, it flattens out the input tensor, then passing to self.linear(xb)\n",
        "*-1 allows to work with any batch size"
      ],
      "metadata": {
        "id": "KIsThSOpwLXm"
      }
    },
    {
      "cell_type": "code",
      "source": [
        "print(model.linear.weight.shape, model.linear.bias.shape) # .weight and .bias are now inside linear\n",
        "list(model.parameters())\n"
      ],
      "metadata": {
        "colab": {
          "base_uri": "https://localhost:8080/"
        },
        "id": "GcVxt1t5wUus",
        "outputId": "112fc5ca-796f-4de8-aec6-6ca64f955d3d"
      },
      "execution_count": 14,
      "outputs": [
        {
          "output_type": "stream",
          "name": "stdout",
          "text": [
            "torch.Size([10, 784]) torch.Size([10])\n"
          ]
        },
        {
          "output_type": "execute_result",
          "data": {
            "text/plain": [
              "[Parameter containing:\n",
              " tensor([[-0.0293, -0.0136, -0.0205,  ..., -0.0041,  0.0228, -0.0240],\n",
              "         [-0.0012, -0.0267, -0.0344,  ...,  0.0138, -0.0323,  0.0247],\n",
              "         [ 0.0192,  0.0116, -0.0074,  ...,  0.0147, -0.0263,  0.0349],\n",
              "         ...,\n",
              "         [-0.0005,  0.0070,  0.0234,  ..., -0.0121, -0.0212,  0.0154],\n",
              "         [ 0.0209,  0.0172, -0.0130,  ..., -0.0343, -0.0241, -0.0137],\n",
              "         [ 0.0054,  0.0094,  0.0117,  ...,  0.0089,  0.0050, -0.0139]],\n",
              "        requires_grad=True),\n",
              " Parameter containing:\n",
              " tensor([ 0.0267,  0.0180,  0.0208,  0.0247, -0.0147,  0.0191,  0.0122, -0.0020,\n",
              "         -0.0046, -0.0192], requires_grad=True)]"
            ]
          },
          "metadata": {},
          "execution_count": 14
        }
      ]
    },
    {
      "cell_type": "code",
      "source": [
        "for images, labels in train_loader:\n",
        "    # print(labels)\n",
        "    # print(images.shape)\n",
        "    outputs = model(images)\n",
        "    break\n",
        "print('outputs.shape : ', outputs.shape) # should be [100, 10]\n",
        "print('Sample outputs:\\n', outputs[:2].data)\n",
        "# outputs a few negatives, which shouldn't be... so use SoftMax!!\n",
        "# SoftMax\n",
        "# makes positive, and also makes larger, pushing model to one particular output, hence Logit! not probabiility\n",
        "# replaces"
      ],
      "metadata": {
        "colab": {
          "base_uri": "https://localhost:8080/"
        },
        "id": "UIPrr_0Kx_Vc",
        "outputId": "5c41282c-e652-4278-8fc2-38b4fa9cca24"
      },
      "execution_count": 15,
      "outputs": [
        {
          "output_type": "stream",
          "name": "stdout",
          "text": [
            "outputs.shape :  torch.Size([100, 10])\n",
            "Sample outputs:\n",
            " tensor([[ 0.1782,  0.2349,  0.2093,  0.2971, -0.1038,  0.1728, -0.1909,  0.0708,\n",
            "          0.1057, -0.1461],\n",
            "        [-0.2881, -0.4742, -0.4007, -0.2914,  0.0148,  0.6015, -0.2224,  0.3642,\n",
            "         -0.0813, -0.2296]])\n"
          ]
        }
      ]
    },
    {
      "cell_type": "code",
      "source": [
        "import torch.nn.functional as F\n",
        "\n",
        "probs = F.softmax(outputs, dim=1)\n",
        "print('Sample probabilities:\\n', probs[:2].data)\n",
        "print('Sum: ', torch.sum(probs[0]).item()) # add up probabilities of an outpu row."
      ],
      "metadata": {
        "colab": {
          "base_uri": "https://localhost:8080/"
        },
        "id": "xbuO7IMM2QpP",
        "outputId": "9fde9eac-c4a3-44a3-a3a5-ff1b07053ee9"
      },
      "execution_count": 16,
      "outputs": [
        {
          "output_type": "stream",
          "name": "stdout",
          "text": [
            "Sample probabilities:\n",
            " tensor([[0.1086, 0.1149, 0.1120, 0.1223, 0.0819, 0.1080, 0.0751, 0.0975, 0.1010,\n",
            "         0.0785],\n",
            "        [0.0782, 0.0649, 0.0699, 0.0780, 0.1059, 0.1904, 0.0835, 0.1502, 0.0962,\n",
            "         0.0829]])\n",
            "Sum:  1.0\n"
          ]
        }
      ]
    },
    {
      "cell_type": "code",
      "source": [
        "max_probs, preds = torch.max(probs, dim=1)\n",
        "print(preds)\n",
        "print(max_probs)"
      ],
      "metadata": {
        "colab": {
          "base_uri": "https://localhost:8080/"
        },
        "id": "irulyZPY2ksm",
        "outputId": "2669e4ce-72da-43c3-b6df-db0863516aab"
      },
      "execution_count": 17,
      "outputs": [
        {
          "output_type": "stream",
          "name": "stdout",
          "text": [
            "tensor([3, 5, 5, 5, 8, 7, 3, 0, 5, 5, 2, 5, 5, 5, 7, 5, 2, 5, 5, 5, 5, 6, 2, 3,\n",
            "        3, 5, 5, 5, 5, 8, 5, 5, 5, 2, 7, 5, 5, 5, 5, 8, 6, 2, 5, 8, 5, 5, 5, 5,\n",
            "        5, 5, 5, 3, 5, 5, 5, 5, 3, 5, 0, 7, 7, 2, 3, 3, 5, 5, 7, 6, 5, 5, 2, 8,\n",
            "        8, 5, 5, 5, 5, 5, 5, 5, 3, 5, 5, 5, 3, 5, 3, 5, 1, 5, 0, 5, 5, 5, 5, 8,\n",
            "        7, 2, 7, 5])\n",
            "tensor([0.1223, 0.1904, 0.1405, 0.1404, 0.1367, 0.1312, 0.1187, 0.1209, 0.2011,\n",
            "        0.1249, 0.1316, 0.1171, 0.1305, 0.1624, 0.1286, 0.1659, 0.1195, 0.1518,\n",
            "        0.1370, 0.1395, 0.2010, 0.1180, 0.1374, 0.1241, 0.1169, 0.1439, 0.1808,\n",
            "        0.1245, 0.1180, 0.1168, 0.1278, 0.1276, 0.1255, 0.1355, 0.1418, 0.1499,\n",
            "        0.1145, 0.1383, 0.1411, 0.1129, 0.1234, 0.1295, 0.1344, 0.1284, 0.1486,\n",
            "        0.1702, 0.1281, 0.1563, 0.1420, 0.1453, 0.1341, 0.1538, 0.1316, 0.1750,\n",
            "        0.1645, 0.1442, 0.1262, 0.1735, 0.1247, 0.1263, 0.1699, 0.1294, 0.1370,\n",
            "        0.1257, 0.1532, 0.1729, 0.1422, 0.1161, 0.1808, 0.1356, 0.1225, 0.1410,\n",
            "        0.1241, 0.1905, 0.1279, 0.1348, 0.1390, 0.1503, 0.1354, 0.1511, 0.1147,\n",
            "        0.1321, 0.1481, 0.1679, 0.1211, 0.1296, 0.1323, 0.1615, 0.1158, 0.1490,\n",
            "        0.1265, 0.1347, 0.1308, 0.1371, 0.1619, 0.1423, 0.1350, 0.1232, 0.1408,\n",
            "        0.1503], grad_fn=<MaxBackward0>)\n"
          ]
        }
      ]
    },
    {
      "cell_type": "code",
      "source": [
        "torch.sum(labels == preds) / len (labels)\n",
        " # compare real digits with expected digits\n",
        "# numbers are off since weights were chosen randomly"
      ],
      "metadata": {
        "colab": {
          "base_uri": "https://localhost:8080/"
        },
        "id": "gi0GM4M_3XtE",
        "outputId": "9b34592d-12ac-41a0-c5f6-9d979779e824"
      },
      "execution_count": 18,
      "outputs": [
        {
          "output_type": "execute_result",
          "data": {
            "text/plain": [
              "tensor(0.0900)"
            ]
          },
          "metadata": {},
          "execution_count": 18
        }
      ]
    },
    {
      "cell_type": "code",
      "source": [
        "def accuracy1(labels_1,preds_2):\n",
        "  return torch.sum(labels_1 == preds_2).item() / len(labels_1)\n",
        "accuracy1(preds, labels)\n"
      ],
      "metadata": {
        "colab": {
          "base_uri": "https://localhost:8080/"
        },
        "id": "84ODHAwY3d2U",
        "outputId": "ab546f29-23f4-4419-d8f5-1d4c54bec0c4"
      },
      "execution_count": 19,
      "outputs": [
        {
          "output_type": "execute_result",
          "data": {
            "text/plain": [
              "0.09"
            ]
          },
          "metadata": {},
          "execution_count": 19
        }
      ]
    },
    {
      "cell_type": "markdown",
      "source": [
        "Problems with accuracy is not differentiable function:\n",
        "1. torch.max & == are both non-continuousand non-differentiable operations, so can't use accuracy for computing gradients w.r.t. weights and biases.\n",
        "2. doen'st take into acccount actual proabilities predicted by model\n",
        "So, not good loss function for classification probs, must use cross entropy, which takes the 10 outputs, and picks of the 10, the 1 correspoonding to highest probability. So take logarithm of highest.\n",
        "preds close to one, lower the loss"
      ],
      "metadata": {
        "id": "x5zdfwLu5Kxr"
      }
    },
    {
      "cell_type": "code",
      "source": [
        "loss_fn = F.cross_entropy\n",
        "# Loss for current batch of data\n",
        "loss = loss_fn(outputs, labels)\n",
        "print(loss)"
      ],
      "metadata": {
        "colab": {
          "base_uri": "https://localhost:8080/"
        },
        "id": "A7-5S7Uv5u0k",
        "outputId": "14caba24-9c95-445d-fa2e-6f5f150f98da"
      },
      "execution_count": 20,
      "outputs": [
        {
          "output_type": "stream",
          "name": "stdout",
          "text": [
            "tensor(2.2975, grad_fn=<NllLossBackward0>)\n"
          ]
        }
      ]
    },
    {
      "cell_type": "markdown",
      "source": [
        "Output is: tensor(2.292)\n",
        "To interpret, take e^-2.29 = .1"
      ],
      "metadata": {
        "id": "F3H5jQxW-Ei-"
      }
    },
    {
      "cell_type": "code",
      "source": [
        "learning_rate = 0.001\n",
        "optimizer = torch.optim.SGD(model.parameters(), lr=learning_rate)"
      ],
      "metadata": {
        "id": "r4N7Wgsj9ppK"
      },
      "execution_count": 21,
      "outputs": []
    },
    {
      "cell_type": "code",
      "source": [
        "### 1. calcualtes loss for batch of data,\n",
        "### 2. optionally performs gradient descent update step if optimizer provided,\n",
        "### 3. optionally coputes a metric of accuracy using preds and targets\n",
        "def loss_batch(model, loss_func, xb, yb, opt=None, metric=None):\n",
        "    preds = model(xb)\n",
        "    loss = loss_func(preds, yb)\n",
        "    if opt is not None:\n",
        "        loss.backward() # compute gradients\n",
        "        opt.step() # update parameters\n",
        "        opt.zero_grad() # reset gradients\n",
        "    metric_result = None\n",
        "    if metric is not None: #compute metric\n",
        "      metric_result = metric(preds,yb)\n",
        "\n",
        "    return loss.item(), len(xb), metric_result"
      ],
      "metadata": {
        "id": "-xs10g5E-JFK"
      },
      "execution_count": 22,
      "outputs": []
    },
    {
      "cell_type": "markdown",
      "source": [],
      "metadata": {
        "id": "e9Yd4LM_6yZ7"
      }
    },
    {
      "cell_type": "code",
      "source": [
        "def evaluate(model, loss_fn, valid_dl, metric=None):\n",
        "    with torch.no_grad(): # pass each batch through model\n",
        "        results = [loss_batch(model, loss_fn, xb, yb, metric=metric)\n",
        "                   for xb, yb in valid_dl]\n",
        "        losses, nums, metrics = zip(*results) # separate losses, counts and metrics\n",
        "        total = np.sum(nums) #total size of dataset\n",
        "        avg_loss = np.sum(np.multiply(losses, nums)) / total # average loss\n",
        "        avg_metric = None\n",
        "        if metric is not None:  # avg. of metric across batches\n",
        "            avg_metric = np.sum(np.multiply(metrics, nums)) / total\n",
        "    return avg_loss, total, avg_metric\n",
        "#"
      ],
      "metadata": {
        "id": "OvtEFZ7u_ASP"
      },
      "execution_count": 23,
      "outputs": []
    },
    {
      "cell_type": "code",
      "source": [
        "def accuracy(outputs, labels):\n",
        "    _, preds = torch.max(outputs, dim=1)\n",
        "    return torch.sum(preds == labels).item() / len(preds)\n",
        "#"
      ],
      "metadata": {
        "id": "ftToPuwOm8eB"
      },
      "execution_count": 24,
      "outputs": []
    },
    {
      "cell_type": "markdown",
      "source": [
        "* Softmax not needed for outputs since it doesn't change the relative order of the results.\n",
        "*because e^x is an increasing function (y1>y2,then e^y1>e^y2)"
      ],
      "metadata": {
        "id": "ZB681AHT_6dZ"
      }
    },
    {
      "cell_type": "code",
      "source": [
        "val_loss, total, val_acc = evaluate(model, loss_fn, val_loader,metric=accuracy)\n",
        "\n",
        "print('Loss: {:.4f}, Accuracy: {:.4f}'.format(val_loss, val_acc))\n",
        "# loss: 2.3"
      ],
      "metadata": {
        "colab": {
          "base_uri": "https://localhost:8080/"
        },
        "id": "DBu7kzhZAM73",
        "outputId": "2808d948-6a82-4ab0-c419-d51d9c799cab"
      },
      "execution_count": 25,
      "outputs": [
        {
          "output_type": "stream",
          "name": "stdout",
          "text": [
            "Loss: 2.2844, Accuracy: 0.0839\n"
          ]
        }
      ]
    },
    {
      "cell_type": "code",
      "source": [
        "def fit(epochs, model, loss_fn, opt, train_dl, valid_dl, metric=None):\n",
        "    for epoch in range(epochs):\n",
        "        #Training\n",
        "        for xb, yb in train_dl:\n",
        "           loss,_,_ = loss_batch(model, loss_fn, xb, yb, opt) # takes data batch by batch by batch performingin gradient descent\n",
        "        #Evalution\n",
        "        result = evaluate(model, loss_fn, valid_dl, metric)\n",
        "        val_loss, total, val_metric = result\n",
        "        #print progress\n",
        "        if metric is None:\n",
        "            print('Epoch [{}/{}], Loss: {:.4f}'.format(epoch+1, epochs, val_loss))\n",
        "        else:\n",
        "          print('Epoch [{}/{}], Loss: {:.4f}, {}: {:.4f}'.format(epoch+1, epochs, val_loss, metric.__name__, val_metric))\n",
        "#\n"
      ],
      "metadata": {
        "id": "EutTlHcLApRD"
      },
      "execution_count": 26,
      "outputs": []
    },
    {
      "cell_type": "code",
      "source": [
        "model = MnistModel()\n",
        "optimizer = torch.optim.SGD(model.parameters(), lr=learning_rate)"
      ],
      "metadata": {
        "id": "b5qicvd2rs9d"
      },
      "execution_count": 27,
      "outputs": []
    },
    {
      "cell_type": "code",
      "source": [
        "fit(5, model, F.cross_entropy, optimizer, train_loader, val_loader, accuracy)"
      ],
      "metadata": {
        "colab": {
          "base_uri": "https://localhost:8080/"
        },
        "id": "-dfIUNl1sGZk",
        "outputId": "8dc86edb-547e-411b-caef-c4da18f8b4cc"
      },
      "execution_count": 28,
      "outputs": [
        {
          "output_type": "stream",
          "name": "stdout",
          "text": [
            "Epoch [1/5], Loss: 1.8885, accuracy: 0.6455\n",
            "Epoch [2/5], Loss: 1.5878, accuracy: 0.7431\n",
            "Epoch [3/5], Loss: 1.3765, accuracy: 0.7730\n",
            "Epoch [4/5], Loss: 1.2244, accuracy: 0.7913\n",
            "Epoch [5/5], Loss: 1.1117, accuracy: 0.8043\n"
          ]
        }
      ]
    },
    {
      "cell_type": "code",
      "source": [
        "fit(5, model, F.cross_entropy, optimizer, train_loader, val_loader, accuracy)"
      ],
      "metadata": {
        "colab": {
          "base_uri": "https://localhost:8080/"
        },
        "id": "LwgxTdvvsHYU",
        "outputId": "a67a5f89-88f8-4d60-9e9b-083f92c5fb9b"
      },
      "execution_count": 29,
      "outputs": [
        {
          "output_type": "stream",
          "name": "stdout",
          "text": [
            "Epoch [1/5], Loss: 1.0253, accuracy: 0.8131\n",
            "Epoch [2/5], Loss: 0.9571, accuracy: 0.8191\n",
            "Epoch [3/5], Loss: 0.9021, accuracy: 0.8237\n",
            "Epoch [4/5], Loss: 0.8567, accuracy: 0.8279\n",
            "Epoch [5/5], Loss: 0.8186, accuracy: 0.8334\n"
          ]
        }
      ]
    },
    {
      "cell_type": "code",
      "source": [
        "fit(5, model, F.cross_entropy, optimizer, train_loader, val_loader, accuracy)"
      ],
      "metadata": {
        "colab": {
          "base_uri": "https://localhost:8080/"
        },
        "id": "RMsNT3hhsH-n",
        "outputId": "9726be3a-2a5d-4528-ea0e-c8a80aa575c3"
      },
      "execution_count": 30,
      "outputs": [
        {
          "output_type": "stream",
          "name": "stdout",
          "text": [
            "Epoch [1/5], Loss: 0.7861, accuracy: 0.8370\n",
            "Epoch [2/5], Loss: 0.7580, accuracy: 0.8406\n",
            "Epoch [3/5], Loss: 0.7335, accuracy: 0.8434\n",
            "Epoch [4/5], Loss: 0.7119, accuracy: 0.8465\n",
            "Epoch [5/5], Loss: 0.6927, accuracy: 0.8490\n"
          ]
        }
      ]
    },
    {
      "cell_type": "code",
      "source": [
        "fit(5, model, F.cross_entropy, optimizer, train_loader, val_loader, accuracy)"
      ],
      "metadata": {
        "colab": {
          "base_uri": "https://localhost:8080/"
        },
        "id": "NM6ZVJI7sI3U",
        "outputId": "cf0ce4ee-d7d8-4dd6-f332-8f91200ad758"
      },
      "execution_count": 31,
      "outputs": [
        {
          "output_type": "stream",
          "name": "stdout",
          "text": [
            "Epoch [1/5], Loss: 0.6754, accuracy: 0.8512\n",
            "Epoch [2/5], Loss: 0.6599, accuracy: 0.8532\n",
            "Epoch [3/5], Loss: 0.6458, accuracy: 0.8545\n",
            "Epoch [4/5], Loss: 0.6329, accuracy: 0.8570\n",
            "Epoch [5/5], Loss: 0.6211, accuracy: 0.8577\n"
          ]
        }
      ]
    },
    {
      "cell_type": "code",
      "source": [
        "loss = [\n",
        "1.8867,\n",
        "1.5860,\n",
        "1.3754,\n",
        "1.2241,\n",
        "1.1120,\n",
        "1.0261,\n",
        "0.9583,\n",
        "0.9037,\n",
        "0.8588,\n",
        "0.8209,\n",
        "0.7888,\n",
        "0.7610,\n",
        "0.7368,\n",
        "0.7154,\n",
        "0.6963,\n",
        "0.6793,\n",
        "0.6640,\n",
        "0.6501 ,\n",
        "0.6373 ,\n",
        "0.6257,\n",
        "]\n",
        "plt.plot(loss, '-x')\n",
        "plt.xlabel('epoch')\n",
        "plt.ylabel('loss')\n",
        "plt.title('Losss vs. No. of epochs');"
      ],
      "metadata": {
        "colab": {
          "base_uri": "https://localhost:8080/",
          "height": 472
        },
        "id": "SfFCZDqptZ-u",
        "outputId": "752d59af-7b0c-44a8-93e9-b9bb380bb09c"
      },
      "execution_count": 32,
      "outputs": [
        {
          "output_type": "display_data",
          "data": {
            "text/plain": [
              "<Figure size 640x480 with 1 Axes>"
            ],
            "image/png": "[encoded data removed]"
          },
          "metadata": {}
        }
      ]
    },
    {
      "cell_type": "code",
      "source": [
        "accuracies = [\n",
        "  0.6455,\n",
        "  0.7431,\n",
        "  0.7730,\n",
        "  0.7913,\n",
        "  0.8043,\n",
        "  0.8131,\n",
        " 0.8191,\n",
        "  0.8237,\n",
        "  0.8279,\n",
        "  0.8370,\n",
        "  0.8406,\n",
        " 0.8434,\n",
        "  0.8465,\n",
        "  0.8490,\n",
        "  0.8512,\n",
        " 0.8532,\n",
        "  0.8545,\n",
        " 0.8570,\n",
        " 0.8577\n",
        "]\n",
        "plt.plot(accuracies, '-x')\n",
        "plt.xlabel('epoch')\n",
        "plt.ylabel('accuracies')\n",
        "plt.title('accuracies vs. No. of epochs');\n",
        "# 2.55"
      ],
      "metadata": {
        "colab": {
          "base_uri": "https://localhost:8080/",
          "height": 472
        },
        "id": "d5RO3gBPpZFz",
        "outputId": "c52a1790-919c-42c2-b64d-113d54144d0e"
      },
      "execution_count": 33,
      "outputs": [
        {
          "output_type": "display_data",
          "data": {
            "text/plain": [
              "<Figure size 640x480 with 1 Axes>"
            ],
            "image/png": "[encoded data removed]"
          },
          "metadata": {}
        }
      ]
    }
  ]
}