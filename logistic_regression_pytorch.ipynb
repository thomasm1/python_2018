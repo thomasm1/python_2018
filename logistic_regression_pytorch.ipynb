{
  "nbformat": 4,
  "nbformat_minor": 0,
  "metadata": {
    "colab": {
      "provenance": []
    },
    "kernelspec": {
      "name": "python3",
      "display_name": "Python 3"
    },
    "language_info": {
      "name": "python"
    }
  },
  "cells": [
    {
      "cell_type": "code",
      "source": [
        "import kagglehub\n",
        "# Logistic regression almost identical to linear regression model with weights and bias matrices, pred = x @ w.t() + b\n",
        "## Since image is (rgb,x,y), (1,28,28), nn.Linear expects a vector of 28x28, size 784...\n",
        "## Output is vect;or of size 10, with each element signifying probbabiliy a particular target label (0 - 9). Predicted label is one with highest probability\n",
        "#https://www.kaggle.com/datasets/hojjatk/mnist-dataset\n",
        "# Download latest version\n",
        "# path = kagglehub.dataset_download(\"hojjatk/mnist-dataset\")\n",
        "# print(\"Path to dataset files:\", path)"
      ],
      "metadata": {
        "id": "JDIw7yJhiCmw"
      },
      "execution_count": 1,
      "outputs": []
    },
    {
      "cell_type": "code",
      "source": [],
      "metadata": {
        "id": "j21aK77xtMQj"
      },
      "execution_count": 1,
      "outputs": []
    },
    {
      "cell_type": "code",
      "source": [
        "import torch\n",
        "import torchvision\n",
        "from torchvision.datasets import MNIST\n",
        "import torchvision.transforms as transforms\n",
        "\n",
        "dataset = MNIST(root='data/', download=True)#, transform=transforms.ToTensor())\n",
        "len(dataset)"
      ],
      "metadata": {
        "colab": {
          "base_uri": "https://localhost:8080/"
        },
        "id": "pp2L8TFiiFmA",
        "outputId": "88e0e1b0-3f96-4497-e67d-be707e322b90"
      },
      "execution_count": 2,
      "outputs": [
        {
          "output_type": "stream",
          "name": "stdout",
          "text": [
            "Downloading http://yann.lecun.com/exdb/mnist/train-images-idx3-ubyte.gz\n",
            "Failed to download (trying next):\n",
            "<urlopen error [Errno 111] Connection refused>\n",
            "\n",
            "Downloading https://ossci-datasets.s3.amazonaws.com/mnist/train-images-idx3-ubyte.gz\n",
            "Downloading https://ossci-datasets.s3.amazonaws.com/mnist/train-images-idx3-ubyte.gz to data/MNIST/raw/train-images-idx3-ubyte.gz\n"
          ]
        },
        {
          "output_type": "stream",
          "name": "stderr",
          "text": [
            "100%|██████████| 9.91M/9.91M [00:00<00:00, 146MB/s]\n"
          ]
        },
        {
          "output_type": "stream",
          "name": "stdout",
          "text": [
            "Extracting data/MNIST/raw/train-images-idx3-ubyte.gz to data/MNIST/raw\n",
            "\n",
            "Downloading http://yann.lecun.com/exdb/mnist/train-labels-idx1-ubyte.gz\n",
            "Failed to download (trying next):\n",
            "<urlopen error [Errno 111] Connection refused>\n",
            "\n",
            "Downloading https://ossci-datasets.s3.amazonaws.com/mnist/train-labels-idx1-ubyte.gz\n",
            "Downloading https://ossci-datasets.s3.amazonaws.com/mnist/train-labels-idx1-ubyte.gz to data/MNIST/raw/train-labels-idx1-ubyte.gz\n"
          ]
        },
        {
          "output_type": "stream",
          "name": "stderr",
          "text": [
            "100%|██████████| 28.9k/28.9k [00:00<00:00, 30.9MB/s]\n"
          ]
        },
        {
          "output_type": "stream",
          "name": "stdout",
          "text": [
            "Extracting data/MNIST/raw/train-labels-idx1-ubyte.gz to data/MNIST/raw\n",
            "\n",
            "Downloading http://yann.lecun.com/exdb/mnist/t10k-images-idx3-ubyte.gz\n",
            "Failed to download (trying next):\n",
            "<urlopen error [Errno 111] Connection refused>\n",
            "\n",
            "Downloading https://ossci-datasets.s3.amazonaws.com/mnist/t10k-images-idx3-ubyte.gz\n",
            "Downloading https://ossci-datasets.s3.amazonaws.com/mnist/t10k-images-idx3-ubyte.gz to data/MNIST/raw/t10k-images-idx3-ubyte.gz\n"
          ]
        },
        {
          "output_type": "stream",
          "name": "stderr",
          "text": [
            "100%|██████████| 1.65M/1.65M [00:00<00:00, 55.7MB/s]\n"
          ]
        },
        {
          "output_type": "stream",
          "name": "stdout",
          "text": [
            "Extracting data/MNIST/raw/t10k-images-idx3-ubyte.gz to data/MNIST/raw\n",
            "\n",
            "Downloading http://yann.lecun.com/exdb/mnist/t10k-labels-idx1-ubyte.gz\n",
            "Failed to download (trying next):\n",
            "<urlopen error [Errno 111] Connection refused>\n",
            "\n",
            "Downloading https://ossci-datasets.s3.amazonaws.com/mnist/t10k-labels-idx1-ubyte.gz\n",
            "Downloading https://ossci-datasets.s3.amazonaws.com/mnist/t10k-labels-idx1-ubyte.gz to data/MNIST/raw/t10k-labels-idx1-ubyte.gz\n"
          ]
        },
        {
          "output_type": "stream",
          "name": "stderr",
          "text": [
            "100%|██████████| 4.54k/4.54k [00:00<00:00, 11.5MB/s]\n"
          ]
        },
        {
          "output_type": "stream",
          "name": "stdout",
          "text": [
            "Extracting data/MNIST/raw/t10k-labels-idx1-ubyte.gz to data/MNIST/raw\n",
            "\n"
          ]
        },
        {
          "output_type": "execute_result",
          "data": {
            "text/plain": [
              "60000"
            ]
          },
          "metadata": {},
          "execution_count": 2
        }
      ]
    },
    {
      "cell_type": "code",
      "source": [
        "import matplotlib.pyplot as plt\n",
        "import numpy as np\n",
        "\n",
        "%matplotlib inline\n",
        "\n",
        "image, label = dataset[0]\n",
        "plt.imshow(image, cmap='gray')\n",
        "# plt.imshow(img.squeeze(), cmap='gray')\n",
        "print('Label:', label)\n"
      ],
      "metadata": {
        "colab": {
          "base_uri": "https://localhost:8080/",
          "height": 447
        },
        "id": "EfJfQKa4iVOn",
        "outputId": "8d3280e7-6cd1-4d77-a790-c272318f5479"
      },
      "execution_count": 3,
      "outputs": [
        {
          "output_type": "stream",
          "name": "stdout",
          "text": [
            "Label: 5\n"
          ]
        },
        {
          "output_type": "display_data",
          "data": {
            "text/plain": [
              "<Figure size 640x480 with 1 Axes>"
            ],
            "image/png": "[encoded data removed]"
          },
          "metadata": {}
        }
      ]
    },
    {
      "cell_type": "code",
      "source": [
        "image, label = dataset[10]\n",
        "plt.imshow(image, cmap='gray')\n",
        "# plt.imshow(img.squeeze(), cmap='gray')\n",
        "print('Label:', label)"
      ],
      "metadata": {
        "colab": {
          "base_uri": "https://localhost:8080/",
          "height": 447
        },
        "id": "SSe0r8ytibHf",
        "outputId": "4b8f0595-72fc-49ef-cdba-64df2fd05db7"
      },
      "execution_count": 4,
      "outputs": [
        {
          "output_type": "stream",
          "name": "stdout",
          "text": [
            "Label: 3\n"
          ]
        },
        {
          "output_type": "display_data",
          "data": {
            "text/plain": [
              "<Figure size 640x480 with 1 Axes>"
            ],
            "image/png": "[encoded data removed]"
          },
          "metadata": {}
        }
      ]
    },
    {
      "cell_type": "code",
      "source": [
        "\n",
        "# transform converts images into tensors\n",
        "dataset = MNIST(root='data/', download=True, transform=transforms.ToTensor())\n",
        "img_tensor, label = dataset[0]\n",
        "print(img_tensor.shape, 'Label:',label)"
      ],
      "metadata": {
        "colab": {
          "base_uri": "https://localhost:8080/"
        },
        "id": "yfaziio5ifTe",
        "outputId": "145ae6ff-f9da-4a8f-9a46-637372d5af15"
      },
      "execution_count": 5,
      "outputs": [
        {
          "output_type": "stream",
          "name": "stdout",
          "text": [
            "torch.Size([1, 28, 28]) Label: 5\n"
          ]
        }
      ]
    },
    {
      "cell_type": "markdown",
      "source": [
        "1. Training Set:_______compute loss & adjust weights of model using gradient descent\n",
        "2. Validation Set:_____adjust hyperparameters, i.e. learning rate, and pick best version\n",
        "3. Test Set: __________compare models"
      ],
      "metadata": {
        "id": "sUO6ISj3iko9"
      }
    },
    {
      "cell_type": "code",
      "source": [
        "print(img_tensor[:,10:15,10:15])\n",
        "print(torch.max(img_tensor))\n",
        "print(torch.min(img_tensor))"
      ],
      "metadata": {
        "colab": {
          "base_uri": "https://localhost:8080/"
        },
        "id": "T8zwYUTZiiNi",
        "outputId": "883b3249-ccda-4a27-9fa7-00fa41831794"
      },
      "execution_count": 6,
      "outputs": [
        {
          "output_type": "stream",
          "name": "stdout",
          "text": [
            "tensor([[[0.0039, 0.6039, 0.9922, 0.3529, 0.0000],\n",
            "         [0.0000, 0.5451, 0.9922, 0.7451, 0.0078],\n",
            "         [0.0000, 0.0431, 0.7451, 0.9922, 0.2745],\n",
            "         [0.0000, 0.0000, 0.1373, 0.9451, 0.8824],\n",
            "         [0.0000, 0.0000, 0.0000, 0.3176, 0.9412]]])\n",
            "tensor(1.)\n",
            "tensor(0.)\n"
          ]
        }
      ]
    },
    {
      "cell_type": "code",
      "source": [
        "def split_indices(n, val_pct):\n",
        "    n_val = int(n*val_pct) # size of validation set, n=60000 & val_pct=0.1\n",
        "    idxs = np.random.permutation(n) # create random permutation of 0 to n-1\n",
        "    return idxs[n_val:], idxs[:n_val] # pick first n_val indices for validation set"
      ],
      "metadata": {
        "id": "OnTm0XhZi8AE"
      },
      "execution_count": 7,
      "outputs": []
    },
    {
      "cell_type": "markdown",
      "source": [
        "split_indices randomly shuffles the array indices and separates out a specified portion (training images are often ordered by target lables, i.e. images of 0s, followed b images of 1's, followed by 2's"
      ],
      "metadata": {
        "id": "5YI3udyBp6-i"
      }
    },
    {
      "cell_type": "code",
      "source": [
        "train_indices, val_indices = split_indices(len(dataset), val_pct=0.2)\n",
        "print(len(train_indices), len(val_indices))\n",
        "print('Sample train indices', train_indices[:10])\n",
        "print('Sample val indices', val_indices[:10])"
      ],
      "metadata": {
        "colab": {
          "base_uri": "https://localhost:8080/"
        },
        "id": "mJcMPT9xjAfi",
        "outputId": "1d1bb3be-77f1-445f-bdf5-76b2605e25bc"
      },
      "execution_count": 8,
      "outputs": [
        {
          "output_type": "stream",
          "name": "stdout",
          "text": [
            "48000 12000\n",
            "Sample train indices [20883 53599  6488  8384 23882 10783 12316 33056 33251 34998]\n",
            "Sample val indices [39654 53426 49978 22023 44782 50113 43773 33851 43411 52985]\n"
          ]
        }
      ]
    },
    {
      "cell_type": "code",
      "source": [
        "from torch.utils.data.sampler import SubsetRandomSampler\n",
        "from torch.utils.data.dataloader import DataLoader\n",
        "\n",
        "batch_size = 100\n",
        "#training\n",
        "train_sampler = SubsetRandomSampler(train_indices)\n",
        "train_loader = DataLoader(dataset, batch_size, sampler=train_sampler)\n",
        "#validation\n",
        "val_sampler = SubsetRandomSampler(val_indices)\n",
        "val_loader = DataLoader(dataset, batch_size, sampler=val_sampler)"
      ],
      "metadata": {
        "id": "IUwrfp8qqllM"
      },
      "execution_count": 9,
      "outputs": []
    },
    {
      "cell_type": "code",
      "source": [
        "import torch.nn as nn\n",
        "input_size = 28 * 28\n",
        "num_classes = 10\n",
        "\n",
        "# Logistic regression model\n",
        "model = nn.Linear(input_size, num_classes)\n",
        "print(model.weight.shape)\n",
        "model.weight"
      ],
      "metadata": {
        "colab": {
          "base_uri": "https://localhost:8080/"
        },
        "id": "9plvEUpMtVVk",
        "outputId": "97fe7e45-8415-4f88-d964-b12b99a26d4f"
      },
      "execution_count": 10,
      "outputs": [
        {
          "output_type": "stream",
          "name": "stdout",
          "text": [
            "torch.Size([10, 784])\n"
          ]
        },
        {
          "output_type": "execute_result",
          "data": {
            "text/plain": [
              "Parameter containing:\n",
              "tensor([[ 0.0187,  0.0258,  0.0323,  ..., -0.0207, -0.0126,  0.0146],\n",
              "        [-0.0053, -0.0239, -0.0084,  ...,  0.0260,  0.0249,  0.0125],\n",
              "        [-0.0146,  0.0086,  0.0307,  ...,  0.0256,  0.0285, -0.0051],\n",
              "        ...,\n",
              "        [-0.0266, -0.0163,  0.0022,  ...,  0.0272, -0.0274,  0.0016],\n",
              "        [-0.0197, -0.0283,  0.0351,  ...,  0.0154,  0.0071,  0.0053],\n",
              "        [-0.0234, -0.0183,  0.0245,  ...,  0.0207, -0.0050, -0.0316]],\n",
              "       requires_grad=True)"
            ]
          },
          "metadata": {},
          "execution_count": 10
        }
      ]
    },
    {
      "cell_type": "code",
      "source": [
        "print (model.bias.shape)\n",
        "model.bias"
      ],
      "metadata": {
        "colab": {
          "base_uri": "https://localhost:8080/"
        },
        "id": "TLQ_MAHIt_Le",
        "outputId": "60de3a4b-63b4-4992-bd1d-858d3fea1317"
      },
      "execution_count": 11,
      "outputs": [
        {
          "output_type": "stream",
          "name": "stdout",
          "text": [
            "torch.Size([10])\n"
          ]
        },
        {
          "output_type": "execute_result",
          "data": {
            "text/plain": [
              "Parameter containing:\n",
              "tensor([-0.0125, -0.0150,  0.0071, -0.0075,  0.0129,  0.0284,  0.0327, -0.0333,\n",
              "        -0.0250, -0.0167], requires_grad=True)"
            ]
          },
          "metadata": {},
          "execution_count": 11
        }
      ]
    },
    {
      "cell_type": "code",
      "source": [
        "# for images, labels in train_loader:\n",
        "#     print(labels)\n",
        "#     print(images.shape)\n",
        "#     # images = images.reshape(-1, 28*28)\n",
        "#     # print('reshape images.shape:', images.shape)\n",
        "#     outputs = model(images)\n",
        "#     break\n",
        "    ## Without reshape, outputs error due to torch.Size([100,1,28,28])\n",
        "    ## Must flatten 1,28,28"
      ],
      "metadata": {
        "id": "ZGp7i4uIuY7f"
      },
      "execution_count": 12,
      "outputs": []
    },
    {
      "cell_type": "code",
      "source": [
        "class MnistModel(nn.Module):\n",
        "    def __init__(self):\n",
        "        super().__init__()\n",
        "        self.linear = nn.Linear(input_size, num_classes)\n",
        "\n",
        "    def forward(self, xb):\n",
        "        xb = xb.reshape(-1, 784)\n",
        "        out = self.linear(xb)\n",
        "        return out\n",
        "\n",
        "model = MnistModel()"
      ],
      "metadata": {
        "id": "wxty_76ywFAk"
      },
      "execution_count": 13,
      "outputs": []
    },
    {
      "cell_type": "markdown",
      "source": [],
      "metadata": {
        "id": "X7VJg8VHsR4a"
      }
    },
    {
      "cell_type": "markdown",
      "source": [
        "*Inside __init__ constructor method, is instantiated the weights and biases using nn.Linear,\n",
        "*Inside forward(a,b) method which is invoked when passing a batch of ## inputs to model, it flattens out the input tensor, then passing to self.linear(xb)\n",
        "*-1 allows to work with any batch size"
      ],
      "metadata": {
        "id": "KIsThSOpwLXm"
      }
    },
    {
      "cell_type": "code",
      "source": [
        "print(model.linear.weight.shape, model.linear.bias.shape) # .weight and .bias are now inside linear\n",
        "list(model.parameters())\n"
      ],
      "metadata": {
        "colab": {
          "base_uri": "https://localhost:8080/"
        },
        "id": "GcVxt1t5wUus",
        "outputId": "020cbad4-de87-4879-f956-7e504d553634"
      },
      "execution_count": 14,
      "outputs": [
        {
          "output_type": "stream",
          "name": "stdout",
          "text": [
            "torch.Size([10, 784]) torch.Size([10])\n"
          ]
        },
        {
          "output_type": "execute_result",
          "data": {
            "text/plain": [
              "[Parameter containing:\n",
              " tensor([[ 0.0270,  0.0210, -0.0048,  ...,  0.0282, -0.0138,  0.0253],\n",
              "         [-0.0219, -0.0116, -0.0182,  ...,  0.0216, -0.0196, -0.0285],\n",
              "         [ 0.0210, -0.0155,  0.0077,  ..., -0.0179,  0.0187,  0.0229],\n",
              "         ...,\n",
              "         [ 0.0067, -0.0079,  0.0178,  ...,  0.0340,  0.0352, -0.0230],\n",
              "         [ 0.0213, -0.0274,  0.0063,  ..., -0.0173, -0.0322,  0.0275],\n",
              "         [ 0.0233,  0.0312, -0.0160,  ...,  0.0004, -0.0033, -0.0006]],\n",
              "        requires_grad=True),\n",
              " Parameter containing:\n",
              " tensor([ 0.0243,  0.0332, -0.0226,  0.0016,  0.0168, -0.0251, -0.0316, -0.0218,\n",
              "          0.0256, -0.0052], requires_grad=True)]"
            ]
          },
          "metadata": {},
          "execution_count": 14
        }
      ]
    },
    {
      "cell_type": "code",
      "source": [
        "for images, labels in train_loader:\n",
        "    # print(labels)\n",
        "    # print(images.shape)\n",
        "    outputs = model(images)\n",
        "    break\n",
        "print('outputs.shape : ', outputs.shape) # should be [100, 10]\n",
        "print('Sample outputs:\\n', outputs[:2].data)\n",
        "# outputs a few negatives, which shouldn't be... so use SoftMax!!\n",
        "# SoftMax\n",
        "# makes positive, and also makes larger, pushing model to one particular output, hence Logit! not probabiility\n",
        "# replaces"
      ],
      "metadata": {
        "colab": {
          "base_uri": "https://localhost:8080/"
        },
        "id": "UIPrr_0Kx_Vc",
        "outputId": "13ce0912-a106-4861-bd92-f9eb7f6c1cf2"
      },
      "execution_count": 15,
      "outputs": [
        {
          "output_type": "stream",
          "name": "stdout",
          "text": [
            "outputs.shape :  torch.Size([100, 10])\n",
            "Sample outputs:\n",
            " tensor([[ 0.0787, -0.0630,  0.0122, -0.1661,  0.0327,  0.1330, -0.1688,  0.1172,\n",
            "         -0.0154, -0.2307],\n",
            "        [ 0.1556,  0.0792,  0.0085, -0.1790,  0.1553,  0.1461, -0.0782,  0.0220,\n",
            "         -0.2695,  0.2726]])\n"
          ]
        }
      ]
    },
    {
      "cell_type": "code",
      "source": [
        "import torch.nn.functional as F\n",
        "\n",
        "probs = F.softmax(outputs, dim=1)\n",
        "print('Sample probabilities:\\n', probs[:2].data)\n",
        "print('Sum: ', torch.sum(probs[0]).item()) # add up probabilities of an outpu row."
      ],
      "metadata": {
        "colab": {
          "base_uri": "https://localhost:8080/"
        },
        "id": "xbuO7IMM2QpP",
        "outputId": "e9b40557-7d53-470e-9493-85f2c161566f"
      },
      "execution_count": 16,
      "outputs": [
        {
          "output_type": "stream",
          "name": "stdout",
          "text": [
            "Sample probabilities:\n",
            " tensor([[0.1104, 0.0958, 0.1033, 0.0864, 0.1054, 0.1165, 0.0862, 0.1147, 0.1004,\n",
            "         0.0810],\n",
            "        [0.1119, 0.1036, 0.0966, 0.0801, 0.1118, 0.1108, 0.0885, 0.0979, 0.0731,\n",
            "         0.1257]])\n",
            "Sum:  1.0\n"
          ]
        }
      ]
    },
    {
      "cell_type": "code",
      "source": [
        "max_probs, preds = torch.max(probs, dim=1)\n",
        "print(preds)\n",
        "print(max_probs)"
      ],
      "metadata": {
        "colab": {
          "base_uri": "https://localhost:8080/"
        },
        "id": "irulyZPY2ksm",
        "outputId": "4402fa7f-9540-471f-8ab3-cbb8708dbb05"
      },
      "execution_count": 17,
      "outputs": [
        {
          "output_type": "stream",
          "name": "stdout",
          "text": [
            "tensor([5, 9, 5, 2, 9, 4, 7, 2, 0, 7, 0, 5, 5, 5, 9, 0, 5, 0, 2, 4, 9, 9, 5, 0,\n",
            "        0, 0, 5, 7, 7, 5, 3, 7, 4, 5, 4, 2, 7, 7, 0, 0, 0, 1, 7, 0, 7, 0, 5, 0,\n",
            "        2, 0, 0, 3, 7, 5, 7, 7, 2, 5, 4, 7, 5, 1, 0, 2, 9, 4, 0, 5, 0, 5, 9, 7,\n",
            "        5, 5, 7, 0, 5, 5, 7, 5, 2, 5, 0, 7, 5, 1, 5, 9, 9, 9, 5, 7, 7, 5, 7, 9,\n",
            "        7, 0, 0, 2])\n",
            "tensor([0.1165, 0.1257, 0.1334, 0.1174, 0.1253, 0.1221, 0.1166, 0.1309, 0.1181,\n",
            "        0.1217, 0.1447, 0.1179, 0.1216, 0.1284, 0.1170, 0.1132, 0.1238, 0.1206,\n",
            "        0.1422, 0.1187, 0.1302, 0.1243, 0.1212, 0.1262, 0.1352, 0.1271, 0.1234,\n",
            "        0.1364, 0.1234, 0.1251, 0.1250, 0.1483, 0.1281, 0.1438, 0.1362, 0.1078,\n",
            "        0.1237, 0.1140, 0.1366, 0.1399, 0.1292, 0.1146, 0.1294, 0.1127, 0.1338,\n",
            "        0.1218, 0.1140, 0.1252, 0.1312, 0.1226, 0.1226, 0.1349, 0.1426, 0.1214,\n",
            "        0.1328, 0.1428, 0.1401, 0.1418, 0.1299, 0.1235, 0.1370, 0.1236, 0.1077,\n",
            "        0.1156, 0.1225, 0.1227, 0.1198, 0.1184, 0.1398, 0.1193, 0.1078, 0.1118,\n",
            "        0.1176, 0.1207, 0.1249, 0.1207, 0.1208, 0.1330, 0.1290, 0.1197, 0.1116,\n",
            "        0.1252, 0.1317, 0.1218, 0.1207, 0.1238, 0.1181, 0.1259, 0.1206, 0.1344,\n",
            "        0.1290, 0.1183, 0.1325, 0.1169, 0.1222, 0.1174, 0.1166, 0.1277, 0.1201,\n",
            "        0.1265], grad_fn=<MaxBackward0>)\n"
          ]
        }
      ]
    },
    {
      "cell_type": "code",
      "source": [
        "torch.sum(labels == preds) / len (labels)\n",
        " # compare real digits with expected digits\n",
        "# numbers are off since weights were chosen randomly"
      ],
      "metadata": {
        "colab": {
          "base_uri": "https://localhost:8080/"
        },
        "id": "gi0GM4M_3XtE",
        "outputId": "ecba898b-342c-4a1b-d8e9-c195c4c7168f"
      },
      "execution_count": 18,
      "outputs": [
        {
          "output_type": "execute_result",
          "data": {
            "text/plain": [
              "tensor(0.0500)"
            ]
          },
          "metadata": {},
          "execution_count": 18
        }
      ]
    },
    {
      "cell_type": "code",
      "source": [
        "def accuracy1(labels_1,preds_2):\n",
        "  return torch.sum(labels_1 == preds_2).item() / len(labels_1)\n",
        "accuracy1(preds, labels)\n"
      ],
      "metadata": {
        "colab": {
          "base_uri": "https://localhost:8080/"
        },
        "id": "84ODHAwY3d2U",
        "outputId": "9e5f1de1-7e4e-43ad-d0da-6318dd9d9b05"
      },
      "execution_count": 19,
      "outputs": [
        {
          "output_type": "execute_result",
          "data": {
            "text/plain": [
              "0.05"
            ]
          },
          "metadata": {},
          "execution_count": 19
        }
      ]
    },
    {
      "cell_type": "markdown",
      "source": [
        "Problems with accuracy is not differentiable function:\n",
        "1. torch.max & == are both non-continuousand non-differentiable operations, so can't use accuracy for computing gradients w.r.t. weights and biases.\n",
        "2. doen'st take into acccount actual proabilities predicted by model\n",
        "So, not good loss function for classification probs, must use cross entropy, which takes the 10 outputs, and picks of the 10, the 1 correspoonding to highest probability. So take logarithm of highest.\n",
        "preds close to one, lower the loss"
      ],
      "metadata": {
        "id": "x5zdfwLu5Kxr"
      }
    },
    {
      "cell_type": "code",
      "source": [
        "loss_fn = F.cross_entropy\n",
        "# Loss for current batch of data\n",
        "loss = loss_fn(outputs, labels)\n",
        "print(loss)"
      ],
      "metadata": {
        "colab": {
          "base_uri": "https://localhost:8080/"
        },
        "id": "A7-5S7Uv5u0k",
        "outputId": "47988bcb-31ce-4bca-c826-614e61e84531"
      },
      "execution_count": 20,
      "outputs": [
        {
          "output_type": "stream",
          "name": "stdout",
          "text": [
            "tensor(2.3430, grad_fn=<NllLossBackward0>)\n"
          ]
        }
      ]
    },
    {
      "cell_type": "markdown",
      "source": [
        "Output is: tensor(2.292)\n",
        "To interpret, take e^-2.29 = .1"
      ],
      "metadata": {
        "id": "F3H5jQxW-Ei-"
      }
    },
    {
      "cell_type": "code",
      "source": [
        "learning_rate = 0.001\n",
        "optimizer = torch.optim.SGD(model.parameters(), lr=learning_rate)"
      ],
      "metadata": {
        "id": "r4N7Wgsj9ppK"
      },
      "execution_count": 21,
      "outputs": []
    },
    {
      "cell_type": "code",
      "source": [
        "### 1. calcualtes loss for batch of data,\n",
        "### 2. optionally performs gradient descent update step if optimizer provided,\n",
        "### 3. optionally coputes a metric of accuracy using preds and targets\n",
        "def loss_batch(model, loss_func, xb, yb, opt=None, metric=None):\n",
        "    preds = model(xb)\n",
        "    loss = loss_func(preds, yb)\n",
        "    if opt is not None:\n",
        "        loss.backward() # compute gradients\n",
        "        opt.step() # update parameters\n",
        "        opt.zero_grad() # reset gradients\n",
        "    metric_result = None\n",
        "    if metric is not None: #compute metric\n",
        "      metric_result = metric(preds,yb)\n",
        "\n",
        "    return loss.item(), len(xb), metric_result"
      ],
      "metadata": {
        "id": "-xs10g5E-JFK"
      },
      "execution_count": 22,
      "outputs": []
    },
    {
      "cell_type": "markdown",
      "source": [],
      "metadata": {
        "id": "e9Yd4LM_6yZ7"
      }
    },
    {
      "cell_type": "code",
      "source": [
        "def evaluate(model, loss_fn, valid_dl, metric=None):\n",
        "    with torch.no_grad(): # pass each batch through model\n",
        "        results = [loss_batch(model, loss_fn, xb, yb, metric=metric)\n",
        "                   for xb, yb in valid_dl]\n",
        "        losses, nums, metrics = zip(*results) # separate losses, counts and metrics\n",
        "        total = np.sum(nums) #total size of dataset\n",
        "        avg_loss = np.sum(np.multiply(losses, nums)) / total # average loss\n",
        "        avg_metric = None\n",
        "        if metric is not None:  # avg. of metric across batches\n",
        "            avg_metric = np.sum(np.multiply(metrics, nums)) / total\n",
        "    return avg_loss, total, avg_metric\n",
        "#"
      ],
      "metadata": {
        "id": "OvtEFZ7u_ASP"
      },
      "execution_count": 23,
      "outputs": []
    },
    {
      "cell_type": "code",
      "source": [
        "def accuracy(outputs, labels):\n",
        "    _, preds = torch.max(outputs, dim=1)\n",
        "    return torch.sum(preds == labels).item() / len(preds)\n",
        "#"
      ],
      "metadata": {
        "id": "ftToPuwOm8eB"
      },
      "execution_count": 24,
      "outputs": []
    },
    {
      "cell_type": "markdown",
      "source": [
        "* Softmax not needed for outputs since it doesn't change the relative order of the results.\n",
        "*because e^x is an increasing function (y1>y2,then e^y1>e^y2)"
      ],
      "metadata": {
        "id": "ZB681AHT_6dZ"
      }
    },
    {
      "cell_type": "code",
      "source": [
        "val_loss, total, val_acc = evaluate(model, loss_fn, val_loader,metric=accuracy)\n",
        "\n",
        "print('Loss: {:.4f}, Accuracy: {:.4f}'.format(val_loss, val_acc))\n",
        "# loss: 2.3"
      ],
      "metadata": {
        "colab": {
          "base_uri": "https://localhost:8080/"
        },
        "id": "DBu7kzhZAM73",
        "outputId": "1a4597f7-896e-41a7-f4cf-170fad5521fa"
      },
      "execution_count": 25,
      "outputs": [
        {
          "output_type": "stream",
          "name": "stdout",
          "text": [
            "Loss: 2.3121, Accuracy: 0.0862\n"
          ]
        }
      ]
    },
    {
      "cell_type": "code",
      "source": [
        "def fit(epochs, model, loss_fn, opt, train_dl, valid_dl, metric=None):\n",
        "    for epoch in range(epochs):\n",
        "        #Training\n",
        "        for xb, yb in train_dl:\n",
        "           loss,_,_ = loss_batch(model, loss_fn, xb, yb, opt) # takes data batch by batch by batch performingin gradient descent\n",
        "        #Evalution\n",
        "        result = evaluate(model, loss_fn, valid_dl, metric)\n",
        "        val_loss, total, val_metric = result\n",
        "        #print progress\n",
        "        if metric is None:\n",
        "            print('Epoch [{}/{}], Loss: {:.4f}'.format(epoch+1, epochs, val_loss))\n",
        "        else:\n",
        "          print('Epoch [{}/{}], Loss: {:.4f}, {}: {:.4f}'.format(epoch+1, epochs, val_loss, metric.__name__, val_metric))\n",
        "#\n"
      ],
      "metadata": {
        "id": "EutTlHcLApRD"
      },
      "execution_count": 26,
      "outputs": []
    },
    {
      "cell_type": "code",
      "source": [
        "model = MnistModel()\n",
        "optimizer = torch.optim.SGD(model.parameters(), lr=learning_rate)"
      ],
      "metadata": {
        "id": "b5qicvd2rs9d"
      },
      "execution_count": 27,
      "outputs": []
    },
    {
      "cell_type": "code",
      "source": [
        "fit(5, model, F.cross_entropy, optimizer, train_loader, val_loader, accuracy)"
      ],
      "metadata": {
        "colab": {
          "base_uri": "https://localhost:8080/"
        },
        "id": "-dfIUNl1sGZk",
        "outputId": "9ab906e2-7ba9-4120-e9ef-a088bde6ae35"
      },
      "execution_count": 28,
      "outputs": [
        {
          "output_type": "stream",
          "name": "stdout",
          "text": [
            "Epoch [1/5], Loss: 1.8726, accuracy: 0.6499\n",
            "Epoch [2/5], Loss: 1.5809, accuracy: 0.7270\n",
            "Epoch [3/5], Loss: 1.3747, accuracy: 0.7608\n",
            "Epoch [4/5], Loss: 1.2257, accuracy: 0.7807\n",
            "Epoch [5/5], Loss: 1.1148, accuracy: 0.7957\n"
          ]
        }
      ]
    },
    {
      "cell_type": "code",
      "source": [
        "fit(5, model, F.cross_entropy, optimizer, train_loader, val_loader, accuracy)"
      ],
      "metadata": {
        "colab": {
          "base_uri": "https://localhost:8080/"
        },
        "id": "LwgxTdvvsHYU",
        "outputId": "4a9a5c82-5213-4552-e7fb-acb07edf4ef2"
      },
      "execution_count": 29,
      "outputs": [
        {
          "output_type": "stream",
          "name": "stdout",
          "text": [
            "Epoch [1/5], Loss: 1.0296, accuracy: 0.8059\n",
            "Epoch [2/5], Loss: 0.9624, accuracy: 0.8142\n",
            "Epoch [3/5], Loss: 0.9080, accuracy: 0.8208\n",
            "Epoch [4/5], Loss: 0.8631, accuracy: 0.8266\n",
            "Epoch [5/5], Loss: 0.8253, accuracy: 0.8300\n"
          ]
        }
      ]
    },
    {
      "cell_type": "code",
      "source": [
        "fit(5, model, F.cross_entropy, optimizer, train_loader, val_loader, accuracy)"
      ],
      "metadata": {
        "colab": {
          "base_uri": "https://localhost:8080/"
        },
        "id": "RMsNT3hhsH-n",
        "outputId": "a2465d23-31e6-4ef0-8c97-cfa834cd9a4a"
      },
      "execution_count": 30,
      "outputs": [
        {
          "output_type": "stream",
          "name": "stdout",
          "text": [
            "Epoch [1/5], Loss: 0.7931, accuracy: 0.8342\n",
            "Epoch [2/5], Loss: 0.7652, accuracy: 0.8366\n",
            "Epoch [3/5], Loss: 0.7409, accuracy: 0.8412\n",
            "Epoch [4/5], Loss: 0.7195, accuracy: 0.8448\n",
            "Epoch [5/5], Loss: 0.7004, accuracy: 0.8472\n"
          ]
        }
      ]
    },
    {
      "cell_type": "code",
      "source": [
        "fit(5, model, F.cross_entropy, optimizer, train_loader, val_loader, accuracy)"
      ],
      "metadata": {
        "colab": {
          "base_uri": "https://localhost:8080/"
        },
        "id": "NM6ZVJI7sI3U",
        "outputId": "33655494-4c40-41e2-9d2b-680536cf9bf8"
      },
      "execution_count": 31,
      "outputs": [
        {
          "output_type": "stream",
          "name": "stdout",
          "text": [
            "Epoch [1/5], Loss: 0.6833, accuracy: 0.8493\n",
            "Epoch [2/5], Loss: 0.6679, accuracy: 0.8516\n",
            "Epoch [3/5], Loss: 0.6539, accuracy: 0.8535\n",
            "Epoch [4/5], Loss: 0.6412, accuracy: 0.8556\n",
            "Epoch [5/5], Loss: 0.6295, accuracy: 0.8572\n"
          ]
        }
      ]
    },
    {
      "cell_type": "code",
      "source": [
        "loss = [\n",
        "1.8867,\n",
        "1.5860,\n",
        "1.3754,\n",
        "1.2241,\n",
        "1.1120,\n",
        "1.0261,\n",
        "0.9583,\n",
        "0.9037,\n",
        "0.8588,\n",
        "0.8209,\n",
        "0.7888,\n",
        "0.7610,\n",
        "0.7368,\n",
        "0.7154,\n",
        "0.6963,\n",
        "0.6793,\n",
        "0.6640,\n",
        "0.6501 ,\n",
        "0.6373 ,\n",
        "0.6257,\n",
        "]\n",
        "plt.plot(loss, '-x')\n",
        "plt.xlabel('epoch')\n",
        "plt.ylabel('loss')\n",
        "plt.title('Losss vs. No. of epochs');"
      ],
      "metadata": {
        "colab": {
          "base_uri": "https://localhost:8080/",
          "height": 472
        },
        "id": "SfFCZDqptZ-u",
        "outputId": "8a22f0c4-b6b4-4789-ebda-d003f64d72c6"
      },
      "execution_count": 32,
      "outputs": [
        {
          "output_type": "display_data",
          "data": {
            "text/plain": [
              "<Figure size 640x480 with 1 Axes>"
            ],
            "image/png": "[encoded data removed]"
          },
          "metadata": {}
        }
      ]
    },
    {
      "cell_type": "code",
      "source": [
        "accuracies = [\n",
        "0.6455,\n",
        "0.7431,\n",
        "0.7730,\n",
        "0.7913,\n",
        "0.8043,\n",
        "0.8131,\n",
        "0.8191,\n",
        "0.8237,\n",
        "0.8279,\n",
        "0.8370,\n",
        "0.8406,\n",
        "0.8434,\n",
        "0.8465,\n",
        "0.8490,\n",
        "0.8512,\n",
        "0.8532,\n",
        "0.8545,\n",
        "0.8570,\n",
        "0.8577\n",
        "]\n",
        "plt.plot(accuracies, '-x')\n",
        "plt.xlabel('epoch')\n",
        "plt.ylabel('accuracies')\n",
        "plt.title('accuracies vs. No. of epochs');\n",
        "# 2.55"
      ],
      "metadata": {
        "colab": {
          "base_uri": "https://localhost:8080/",
          "height": 472
        },
        "id": "d5RO3gBPpZFz",
        "outputId": "265fc37d-629e-4fd0-b0ea-68ffb053a581"
      },
      "execution_count": 33,
      "outputs": [
        {
          "output_type": "display_data",
          "data": {
            "text/plain": [
              "<Figure size 640x480 with 1 Axes>"
            ],
            "image/png": "[encoded data removed]"
          },
          "metadata": {}
        }
      ]
    },
    {
      "cell_type": "code",
      "source": [
        "#test dataset\n",
        "test_dataset = MNIST(root='data/', train=False, transform=transforms.ToTensor())\n"
      ],
      "metadata": {
        "id": "6iO7nikXuJg_"
      },
      "execution_count": 34,
      "outputs": []
    },
    {
      "cell_type": "code",
      "source": [
        "def predict_image(img, model):\n",
        "    xb = img.unsqueeze(0)\n",
        "    yb = model(xb)\n",
        "    _, preds = torch.max(yb, dim=1)\n",
        "    return preds[0].item()"
      ],
      "metadata": {
        "id": "Wy9vKWZhyD4l"
      },
      "execution_count": 44,
      "outputs": []
    },
    {
      "cell_type": "code",
      "source": [
        "img, label = test_dataset[1839]\n",
        "plt.imshow(img[0], cmap='gray')\n",
        "print('Label:', label, ', PREDICTED: ', predict_image(img, model))\n",
        "# label 2, predicted 8\n"
      ],
      "metadata": {
        "colab": {
          "base_uri": "https://localhost:8080/",
          "height": 447
        },
        "id": "410N4h2kt3RR",
        "outputId": "15238b3c-29cd-441e-dcb3-6c43d224d030"
      },
      "execution_count": 45,
      "outputs": [
        {
          "output_type": "stream",
          "name": "stdout",
          "text": [
            "Label: 2 , PREDICTED:  8\n"
          ]
        },
        {
          "output_type": "display_data",
          "data": {
            "text/plain": [
              "<Figure size 640x480 with 1 Axes>"
            ],
            "image/png": "[encoded data removed]"
          },
          "metadata": {}
        }
      ]
    },
    {
      "cell_type": "code",
      "source": [
        "img.unsqueeze(0).shape\n"
      ],
      "metadata": {
        "colab": {
          "base_uri": "https://localhost:8080/"
        },
        "id": "10MalyElvT63",
        "outputId": "b6fb3b0f-dd78-4a16-9e15-6b9995139f28"
      },
      "execution_count": 46,
      "outputs": [
        {
          "output_type": "execute_result",
          "data": {
            "text/plain": [
              "torch.Size([1, 1, 28, 28])"
            ]
          },
          "metadata": {},
          "execution_count": 46
        }
      ]
    },
    {
      "cell_type": "markdown",
      "source": [
        "img.unsqueeze adds another dimension at the beginning of the 1x28x28 tensor, making it a 1 x 1 x 28x28,  which teh model views as a batch containing a single image."
      ],
      "metadata": {
        "id": "vFwy6LgnyPnA"
      }
    },
    {
      "cell_type": "code",
      "source": [
        "img, label = test_dataset[0]\n",
        "plt.imshow(img[0], cmap='gray')\n",
        "print('Label:', label, ', Predicted:', predict_image(img, model))\n",
        "# label 7, predicted 7"
      ],
      "metadata": {
        "colab": {
          "base_uri": "https://localhost:8080/",
          "height": 447
        },
        "id": "PZ0rrkAIvxsQ",
        "outputId": "73ba42c8-f8b6-44f4-f0a8-a222780dbb73"
      },
      "execution_count": 48,
      "outputs": [
        {
          "output_type": "stream",
          "name": "stdout",
          "text": [
            "Label: 7 , Predicted: 7\n"
          ]
        },
        {
          "output_type": "display_data",
          "data": {
            "text/plain": [
              "<Figure size 640x480 with 1 Axes>"
            ],
            "image/png": "[encoded data removed]"
          },
          "metadata": {}
        }
      ]
    },
    {
      "cell_type": "code",
      "source": [
        "img, label = test_dataset[10]\n",
        "plt.imshow(img[0], cmap='gray')\n",
        "print('Label:', label, ', Predicted:', predict_image(img, model))\n",
        "# label 0, predicted 0"
      ],
      "metadata": {
        "colab": {
          "base_uri": "https://localhost:8080/",
          "height": 447
        },
        "id": "iwDLQJx6xM4C",
        "outputId": "cbe8b768-3cab-47f7-a1b4-eaf25da6cc22"
      },
      "execution_count": 49,
      "outputs": [
        {
          "output_type": "stream",
          "name": "stdout",
          "text": [
            "Label: 0 , Predicted: 0\n"
          ]
        },
        {
          "output_type": "display_data",
          "data": {
            "text/plain": [
              "<Figure size 640x480 with 1 Axes>"
            ],
            "image/png": "[encoded data removed]"
          },
          "metadata": {}
        }
      ]
    },
    {
      "cell_type": "code",
      "source": [
        "img, label = test_dataset[193]\n",
        "plt.imshow(img[0], cmap='gray')\n",
        "print('Label:', label, ', Predicted:', predict_image(img, model))\n",
        "# label 9, predicted 9"
      ],
      "metadata": {
        "colab": {
          "base_uri": "https://localhost:8080/",
          "height": 447
        },
        "id": "E_tl2RzIxVYq",
        "outputId": "6e612643-c68d-4fd1-fdb3-3a37ce11024f"
      },
      "execution_count": 50,
      "outputs": [
        {
          "output_type": "stream",
          "name": "stdout",
          "text": [
            "Label: 9 , Predicted: 9\n"
          ]
        },
        {
          "output_type": "display_data",
          "data": {
            "text/plain": [
              "<Figure size 640x480 with 1 Axes>"
            ],
            "image/png": "[encoded data removed]"
          },
          "metadata": {}
        }
      ]
    },
    {
      "cell_type": "code",
      "source": [
        "test_loader = DataLoader(test_dataset, batch_size=200)\n",
        "result = evaluate(model, loss_fn, test_loader, metric=accuracy)\n",
        "test_loss, total, test_acc = result\n",
        "print('Loss: {:.4f}, Accuracy: {:.4f}'.format(test_loss, test_acc))"
      ],
      "metadata": {
        "colab": {
          "base_uri": "https://localhost:8080/"
        },
        "id": "JdcfCQjExo7G",
        "outputId": "783e0a81-8a84-4a8e-8d6e-ce31065d2c53"
      },
      "execution_count": 51,
      "outputs": [
        {
          "output_type": "stream",
          "name": "stdout",
          "text": [
            "Loss: 0.5974, Accuracy: 0.8673\n"
          ]
        }
      ]
    },
    {
      "cell_type": "code",
      "source": [
        "torch.save(model.state_dict(), 'mnist-logistic.pth')\n",
        "model.state_dict()\n"
      ],
      "metadata": {
        "colab": {
          "base_uri": "https://localhost:8080/"
        },
        "id": "9EcJ1DWI012A",
        "outputId": "b08cca56-98bd-4845-d1f0-29f20dad76bf"
      },
      "execution_count": 53,
      "outputs": [
        {
          "output_type": "execute_result",
          "data": {
            "text/plain": [
              "OrderedDict([('linear.weight',\n",
              "              tensor([[ 5.6103e-03,  2.5482e-02,  2.3753e-02,  ..., -9.6535e-03,\n",
              "                        1.0931e-02, -6.5551e-03],\n",
              "                      [ 2.2609e-02, -2.4946e-02,  1.6791e-02,  ...,  7.6807e-03,\n",
              "                       -3.1848e-02,  2.3751e-02],\n",
              "                      [-2.0357e-02,  1.2413e-02, -1.6660e-02,  ..., -4.0759e-03,\n",
              "                       -3.0175e-02,  7.4048e-03],\n",
              "                      ...,\n",
              "                      [-3.1744e-05,  2.7689e-02, -2.5896e-02,  ..., -2.5777e-02,\n",
              "                        2.0540e-02,  1.9390e-02],\n",
              "                      [-1.0800e-02,  2.8062e-02, -1.4588e-02,  ..., -2.8731e-02,\n",
              "                       -2.2074e-02, -2.7750e-02],\n",
              "                      [ 1.2417e-02,  2.3325e-02, -5.4590e-03,  ..., -2.9919e-02,\n",
              "                        1.2332e-02,  1.8780e-02]])),\n",
              "             ('linear.bias',\n",
              "              tensor([-0.0339,  0.1316, -0.0261,  0.0022,  0.0145,  0.0250, -0.0167,  0.0312,\n",
              "                      -0.0898, -0.0334]))])"
            ]
          },
          "metadata": {},
          "execution_count": 53
        }
      ]
    },
    {
      "cell_type": "code",
      "source": [
        "# to load model weights, instantiate a  new object of class MnistModel and use .load_state_dict method\n",
        "model2 = MnistModel()\n",
        "model2.load_state_dict(torch.load('mnist-logistic.pth'))\n",
        "model2.state_dict()"
      ],
      "metadata": {
        "colab": {
          "base_uri": "https://localhost:8080/"
        },
        "id": "a4y6UrtA1Wkj",
        "outputId": "f24b6377-e4cd-4980-ff51-1dd082a1b28c"
      },
      "execution_count": 54,
      "outputs": [
        {
          "output_type": "stream",
          "name": "stderr",
          "text": [
            "<ipython-input-54-05509386c5fd>:3: FutureWarning: You are using `torch.load` with `weights_only=False` (the current default value), which uses the default pickle module implicitly. It is possible to construct malicious pickle data which will execute arbitrary code during unpickling (See https://github.com/pytorch/pytorch/blob/main/SECURITY.md#untrusted-models for more details). In a future release, the default value for `weights_only` will be flipped to `True`. This limits the functions that could be executed during unpickling. Arbitrary objects will no longer be allowed to be loaded via this mode unless they are explicitly allowlisted by the user via `torch.serialization.add_safe_globals`. We recommend you start setting `weights_only=True` for any use case where you don't have full control of the loaded file. Please open an issue on GitHub for any issues related to this experimental feature.\n",
            "  model2.load_state_dict(torch.load('mnist-logistic.pth'))\n"
          ]
        },
        {
          "output_type": "execute_result",
          "data": {
            "text/plain": [
              "OrderedDict([('linear.weight',\n",
              "              tensor([[ 5.6103e-03,  2.5482e-02,  2.3753e-02,  ..., -9.6535e-03,\n",
              "                        1.0931e-02, -6.5551e-03],\n",
              "                      [ 2.2609e-02, -2.4946e-02,  1.6791e-02,  ...,  7.6807e-03,\n",
              "                       -3.1848e-02,  2.3751e-02],\n",
              "                      [-2.0357e-02,  1.2413e-02, -1.6660e-02,  ..., -4.0759e-03,\n",
              "                       -3.0175e-02,  7.4048e-03],\n",
              "                      ...,\n",
              "                      [-3.1744e-05,  2.7689e-02, -2.5896e-02,  ..., -2.5777e-02,\n",
              "                        2.0540e-02,  1.9390e-02],\n",
              "                      [-1.0800e-02,  2.8062e-02, -1.4588e-02,  ..., -2.8731e-02,\n",
              "                       -2.2074e-02, -2.7750e-02],\n",
              "                      [ 1.2417e-02,  2.3325e-02, -5.4590e-03,  ..., -2.9919e-02,\n",
              "                        1.2332e-02,  1.8780e-02]])),\n",
              "             ('linear.bias',\n",
              "              tensor([-0.0339,  0.1316, -0.0261,  0.0022,  0.0145,  0.0250, -0.0167,  0.0312,\n",
              "                      -0.0898, -0.0334]))])"
            ]
          },
          "metadata": {},
          "execution_count": 54
        }
      ]
    },
    {
      "cell_type": "code",
      "source": [
        "#Sanity Check to ensure same loss & accuracy as first model.\n",
        "test_loss, total, test_acc = evaluate(model2, loss_fn, test_loader, metric=accuracy)\n",
        "print('Loss: {:.4f}, Accuracy: {:.4f}'.format(test_loss, test_acc))"
      ],
      "metadata": {
        "colab": {
          "base_uri": "https://localhost:8080/"
        },
        "id": "XRNBG_PO1pu4",
        "outputId": "06b5a675-e916-45cc-e111-1f51b08e9bdf"
      },
      "execution_count": 55,
      "outputs": [
        {
          "output_type": "stream",
          "name": "stdout",
          "text": [
            "Loss: 0.5974, Accuracy: 0.8673\n"
          ]
        }
      ]
    },
    {
      "cell_type": "markdown",
      "source": [
        "Saving weights and bias matrices to disk for later reuse and Avoid Training from Scratch!\n",
        ".state_dict method returns an OrderedDict containing all the weights & bieas matrices"
      ],
      "metadata": {
        "id": "TEht1Rut06AE"
      }
    }
  ]
}